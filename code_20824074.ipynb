{
 "cells": [
  {
   "cell_type": "markdown",
   "metadata": {},
   "source": [
    "# Programming Assignment 1"
   ]
  },
  {
   "cell_type": "markdown",
   "metadata": {},
   "source": [
    "## Part 1: Data Exploration and Preparation"
   ]
  },
  {
   "cell_type": "code",
   "execution_count": 1,
   "metadata": {},
   "outputs": [],
   "source": [
    "# Import libraries\n",
    "import numpy as np\n",
    "import pandas as pd\n",
    "import matplotlib.pyplot as plt\n",
    "import seaborn as sns\n",
    "import time\n",
    "import sklearn\n",
    "from sklearn.preprocessing import MinMaxScaler, StandardScaler, RobustScaler, OneHotEncoder, OrdinalEncoder, PolynomialFeatures, FunctionTransformer\n",
    "from sklearn.impute import SimpleImputer, KNNImputer\n",
    "from sklearn.model_selection import train_test_split, GridSearchCV\n",
    "from sklearn.linear_model import LinearRegression, Ridge, Lasso, ElasticNet, LogisticRegression, SGDRegressor, SGDClassifier\n",
    "from sklearn.metrics import r2_score, mean_squared_error, accuracy_score, f1_score, roc_curve, auc\n",
    "from sklearn.feature_selection import VarianceThreshold, SelectKBest, RFE, SelectFromModel, SequentialFeatureSelector, SelectFpr, f_regression, f_classif \n",
    "from sklearn.compose import ColumnTransformer\n",
    "from sklearn.pipeline import Pipeline\n",
    "from sklearn.neural_network import MLPRegressor, MLPClassifier\n",
    "from sklearn.ensemble import IsolationForest\n",
    "from natsort import natsorted\n",
    "from scipy import stats"
   ]
  },
  {
   "cell_type": "code",
   "execution_count": 2,
   "metadata": {},
   "outputs": [],
   "source": [
    "# Load data\n",
    "train_data_file = './data/train.csv'\n",
    "train_df = pd.read_csv(train_data_file)"
   ]
  },
  {
   "cell_type": "code",
   "execution_count": 3,
   "metadata": {},
   "outputs": [],
   "source": [
    "# Check feature types\n",
    "numerical_columns = train_df.select_dtypes(include=np.number).columns.tolist()\n",
    "categorical_columns = train_df.select_dtypes(include='object').columns.tolist()\n",
    "int_columns = train_df.select_dtypes(include=int).columns.tolist()\n",
    "float_columns = train_df.select_dtypes(include=float).columns.tolist()"
   ]
  },
  {
   "cell_type": "markdown",
   "metadata": {},
   "source": [
    "### Q1 Dataset Overview"
   ]
  },
  {
   "cell_type": "code",
   "execution_count": 4,
   "metadata": {},
   "outputs": [
    {
     "name": "stdout",
     "output_type": "stream",
     "text": [
      "<class 'pandas.core.frame.DataFrame'>\n",
      "RangeIndex: 3539 entries, 0 to 3538\n",
      "Data columns (total 33 columns):\n",
      " #   Column                 Non-Null Count  Dtype  \n",
      "---  ------                 --------------  -----  \n",
      " 0   C0                     3510 non-null   object \n",
      " 1   C1                     3539 non-null   object \n",
      " 2   C2                     3539 non-null   object \n",
      " 3   C3                     3539 non-null   object \n",
      " 4   C4                     3490 non-null   object \n",
      " 5   C5                     3431 non-null   object \n",
      " 6   C6                     3539 non-null   float64\n",
      " 7   C7                     3539 non-null   object \n",
      " 8   C8                     3457 non-null   object \n",
      " 9   C9                     3397 non-null   object \n",
      " 10  C10                    3539 non-null   object \n",
      " 11  C11                    3381 non-null   object \n",
      " 12  C12                    3369 non-null   object \n",
      " 13  C13                    3419 non-null   object \n",
      " 14  C14                    3539 non-null   int64  \n",
      " 15  C15                    3401 non-null   object \n",
      " 16  C16                    3539 non-null   int64  \n",
      " 17  C17                    3391 non-null   float64\n",
      " 18  C18                    3539 non-null   int64  \n",
      " 19  C19                    3539 non-null   int64  \n",
      " 20  C20                    3368 non-null   float64\n",
      " 21  C21                    3539 non-null   int64  \n",
      " 22  C22                    3523 non-null   float64\n",
      " 23  C23                    3511 non-null   float64\n",
      " 24  C24                    3539 non-null   int64  \n",
      " 25  C25                    3395 non-null   float64\n",
      " 26  C26                    3539 non-null   float64\n",
      " 27  C27                    3539 non-null   int64  \n",
      " 28  C28                    3539 non-null   float64\n",
      " 29  C29                    3379 non-null   float64\n",
      " 30  C30                    3539 non-null   float64\n",
      " 31  regression target      3539 non-null   float64\n",
      " 32  classification target  3539 non-null   object \n",
      "dtypes: float64(11), int64(7), object(15)\n",
      "memory usage: 912.5+ KB\n"
     ]
    }
   ],
   "source": [
    "# Data overview\n",
    "train_df.info()"
   ]
  },
  {
   "cell_type": "markdown",
   "metadata": {},
   "source": [
    "### Q2 Missing Values"
   ]
  },
  {
   "cell_type": "code",
   "execution_count": 5,
   "metadata": {},
   "outputs": [
    {
     "data": {
      "text/plain": [
       "C0     0.819441\n",
       "C4     1.384572\n",
       "C5     3.051710\n",
       "C8     2.317039\n",
       "C9     4.012433\n",
       "C11    4.464538\n",
       "C12    4.803617\n",
       "C13    3.390788\n",
       "C15    3.899407\n",
       "C17    4.181972\n",
       "C20    4.831873\n",
       "C22    0.452105\n",
       "C23    0.791184\n",
       "C25    4.068946\n",
       "C29    4.521051\n",
       "dtype: float64"
      ]
     },
     "execution_count": 5,
     "metadata": {},
     "output_type": "execute_result"
    }
   ],
   "source": [
    "# Check for missing values\n",
    "missing_values = train_df.isnull().sum()\n",
    "total_values = train_df.shape[0]\n",
    "proportion_missing = 100*missing_values / total_values\n",
    "proportion_missing = proportion_missing[proportion_missing > 0]\n",
    "proportion_missing"
   ]
  },
  {
   "cell_type": "markdown",
   "metadata": {},
   "source": [
    "### Q3 Feature Distribution"
   ]
  },
  {
   "cell_type": "markdown",
   "metadata": {},
   "source": [
    "Numerical features"
   ]
  },
  {
   "cell_type": "code",
   "execution_count": 6,
   "metadata": {},
   "outputs": [],
   "source": [
    "# Define discrete and continuous columns\n",
    "discrete_columns = ['C14', 'C16', 'C17', 'C18', 'C19', 'C21', 'C22', 'C23', 'C24', 'C25', 'C27']\n",
    "continuous_columns = ['C6', 'C20', 'C26', 'C28', 'C29', 'C30']"
   ]
  },
  {
   "cell_type": "code",
   "execution_count": 7,
   "metadata": {},
   "outputs": [
    {
     "data": {
      "text/html": [
       "<div>\n",
       "<style scoped>\n",
       "    .dataframe tbody tr th:only-of-type {\n",
       "        vertical-align: middle;\n",
       "    }\n",
       "\n",
       "    .dataframe tbody tr th {\n",
       "        vertical-align: top;\n",
       "    }\n",
       "\n",
       "    .dataframe thead th {\n",
       "        text-align: right;\n",
       "    }\n",
       "</style>\n",
       "<table border=\"1\" class=\"dataframe\">\n",
       "  <thead>\n",
       "    <tr style=\"text-align: right;\">\n",
       "      <th></th>\n",
       "      <th>C6</th>\n",
       "      <th>C14</th>\n",
       "      <th>C16</th>\n",
       "    </tr>\n",
       "  </thead>\n",
       "  <tbody>\n",
       "    <tr>\n",
       "      <th>count</th>\n",
       "      <td>3539.000000</td>\n",
       "      <td>3539.000000</td>\n",
       "      <td>3539.000000</td>\n",
       "    </tr>\n",
       "    <tr>\n",
       "      <th>mean</th>\n",
       "      <td>66.324696</td>\n",
       "      <td>23.204012</td>\n",
       "      <td>0.683526</td>\n",
       "    </tr>\n",
       "    <tr>\n",
       "      <th>std</th>\n",
       "      <td>6.619953</td>\n",
       "      <td>7.427675</td>\n",
       "      <td>2.275012</td>\n",
       "    </tr>\n",
       "    <tr>\n",
       "      <th>min</th>\n",
       "      <td>47.500000</td>\n",
       "      <td>17.000000</td>\n",
       "      <td>0.000000</td>\n",
       "    </tr>\n",
       "    <tr>\n",
       "      <th>25%</th>\n",
       "      <td>62.500000</td>\n",
       "      <td>19.000000</td>\n",
       "      <td>0.000000</td>\n",
       "    </tr>\n",
       "    <tr>\n",
       "      <th>50%</th>\n",
       "      <td>66.550000</td>\n",
       "      <td>20.000000</td>\n",
       "      <td>0.000000</td>\n",
       "    </tr>\n",
       "    <tr>\n",
       "      <th>75%</th>\n",
       "      <td>70.000000</td>\n",
       "      <td>25.000000</td>\n",
       "      <td>0.000000</td>\n",
       "    </tr>\n",
       "    <tr>\n",
       "      <th>max</th>\n",
       "      <td>95.000000</td>\n",
       "      <td>70.000000</td>\n",
       "      <td>20.000000</td>\n",
       "    </tr>\n",
       "  </tbody>\n",
       "</table>\n",
       "</div>"
      ],
      "text/plain": [
       "                C6          C14          C16\n",
       "count  3539.000000  3539.000000  3539.000000\n",
       "mean     66.324696    23.204012     0.683526\n",
       "std       6.619953     7.427675     2.275012\n",
       "min      47.500000    17.000000     0.000000\n",
       "25%      62.500000    19.000000     0.000000\n",
       "50%      66.550000    20.000000     0.000000\n",
       "75%      70.000000    25.000000     0.000000\n",
       "max      95.000000    70.000000    20.000000"
      ]
     },
     "execution_count": 7,
     "metadata": {},
     "output_type": "execute_result"
    }
   ],
   "source": [
    "# Distribution of the first 3 numerical features\n",
    "train_df[numerical_columns[:3]].describe()"
   ]
  },
  {
   "cell_type": "code",
   "execution_count": 8,
   "metadata": {},
   "outputs": [
    {
     "data": {
      "text/plain": [
       "(array([66.55, 20.  ,  0.  ]),\n",
       " C6     47.5\n",
       " C14    53.0\n",
       " C16    20.0\n",
       " dtype: float64,\n",
       " C6     43.811392\n",
       " C14    55.154762\n",
       " C16     5.174216\n",
       " dtype: float64)"
      ]
     },
     "execution_count": 8,
     "metadata": {},
     "output_type": "execute_result"
    }
   ],
   "source": [
    "# Calculate the median of the first three numerical features\n",
    "median_values = np.median(train_df[numerical_columns[:3]], axis=0)\n",
    "# Calculate the variance of the first three numerical features\n",
    "variance_values = np.var(train_df[numerical_columns[:3]], axis=0)\n",
    "\n",
    "range_values = np.ptp(train_df[numerical_columns[:3]], axis=0)\n",
    "\n",
    "median_values, range_values, variance_values"
   ]
  },
  {
   "cell_type": "code",
   "execution_count": 9,
   "metadata": {},
   "outputs": [
    {
     "data": {
      "image/png": "[encoded data removed]",
      "text/plain": [
       "<Figure size 500x300 with 1 Axes>"
      ]
     },
     "metadata": {},
     "output_type": "display_data"
    }
   ],
   "source": [
    "# Boxplot of the first 3 numerical features\n",
    "plt.figure(figsize=(5,3))\n",
    "sns.boxplot(data=train_df[numerical_columns[:3]])\n",
    "plt.show()"
   ]
  },
  {
   "cell_type": "markdown",
   "metadata": {},
   "source": [
    "Categorical features"
   ]
  },
  {
   "cell_type": "code",
   "execution_count": 10,
   "metadata": {},
   "outputs": [],
   "source": [
    "# Define ordinal and nominal columns\n",
    "ordinal_columns = ['C2','C5']\n",
    "nominal_columns = ['C0','C1','C3','C4','C7','C8','C9','C10','C11','C12','C13','C15']"
   ]
  },
  {
   "cell_type": "code",
   "execution_count": 11,
   "metadata": {},
   "outputs": [
    {
     "name": "stderr",
     "output_type": "stream",
     "text": [
      "C:\\Users\\rmi87\\AppData\\Local\\Temp\\ipykernel_30420\\1544261085.py:9: UserWarning: FixedFormatter should only be used together with FixedLocator\n",
      "  axes[i].set_xticklabels(train_df[col].value_counts().index, rotation=90)  # Rotate x-axis labels\n",
      "C:\\Users\\rmi87\\AppData\\Local\\Temp\\ipykernel_30420\\1544261085.py:9: UserWarning: FixedFormatter should only be used together with FixedLocator\n",
      "  axes[i].set_xticklabels(train_df[col].value_counts().index, rotation=90)  # Rotate x-axis labels\n",
      "C:\\Users\\rmi87\\AppData\\Local\\Temp\\ipykernel_30420\\1544261085.py:9: UserWarning: FixedFormatter should only be used together with FixedLocator\n",
      "  axes[i].set_xticklabels(train_df[col].value_counts().index, rotation=90)  # Rotate x-axis labels\n"
     ]
    },
    {
     "data": {
      "image/png": "[encoded data removed]",
      "text/plain": [
       "<Figure size 1200x600 with 3 Axes>"
      ]
     },
     "metadata": {},
     "output_type": "display_data"
    }
   ],
   "source": [
    "# Summarize the categories count of the first 3 categorical features and visualize their distributions using bar plots\n",
    "unique_features_count = train_df[categorical_columns[:3]].nunique()\n",
    "fig, axes = plt.subplots(1, 3, figsize=(12, 6))\n",
    "for i, col in enumerate(categorical_columns[:3]):\n",
    "    axes[i].bar(train_df[col].value_counts().index, train_df[col].value_counts().values)\n",
    "    #axes[i].set_xlabel()\n",
    "    axes[i].set_ylabel('Count')\n",
    "    axes[i].set_title('Categories count for '+col+': '  + str(unique_features_count[i]))\n",
    "    axes[i].set_xticklabels(train_df[col].value_counts().index, rotation=90)  # Rotate x-axis labels\n",
    "\n",
    "plt.tight_layout()\n",
    "plt.show()"
   ]
  },
  {
   "cell_type": "markdown",
   "metadata": {},
   "source": [
    "### Q4 Outliers"
   ]
  },
  {
   "cell_type": "markdown",
   "metadata": {},
   "source": [
    "IQR"
   ]
  },
  {
   "cell_type": "code",
   "execution_count": 12,
   "metadata": {},
   "outputs": [
    {
     "data": {
      "text/plain": [
       "C6     147\n",
       "C14    340\n",
       "C16    454\n",
       "dtype: int64"
      ]
     },
     "execution_count": 12,
     "metadata": {},
     "output_type": "execute_result"
    }
   ],
   "source": [
    "# Calculate iqr for numerical columns\n",
    "q1 = train_df[numerical_columns].dropna().quantile(0.25)\n",
    "q3 = train_df[numerical_columns].dropna().quantile(0.75)\n",
    "iqr = q3 - q1\n",
    "\n",
    "# Calculate lower and upper bounds for outliers\n",
    "lower_bound = q1 - 1.5 * iqr\n",
    "upper_bound = q3 + 1.5 * iqr\n",
    "\n",
    "# Find outliers using iqr\n",
    "outliers_iqr = train_df[(train_df[numerical_columns] < lower_bound) | (train_df[numerical_columns] > upper_bound)]\n",
    "\n",
    "# Count outliers\n",
    "outliers_iqr[numerical_columns[:3]].count()"
   ]
  },
  {
   "cell_type": "markdown",
   "metadata": {},
   "source": [
    "Z-score"
   ]
  },
  {
   "cell_type": "code",
   "execution_count": 13,
   "metadata": {},
   "outputs": [
    {
     "data": {
      "text/plain": [
       "C6      18\n",
       "C14     79\n",
       "C16    114\n",
       "dtype: int64"
      ]
     },
     "execution_count": 13,
     "metadata": {},
     "output_type": "execute_result"
    }
   ],
   "source": [
    "# Calculate z-scores for numerical columns\n",
    "z_scores = stats.zscore(train_df[numerical_columns])\n",
    "\n",
    "# Find outliers using a threshold of 3\n",
    "outliers_z_score = train_df[(np.abs(z_scores) > 3)]\n",
    "\n",
    "# Count outliers\n",
    "outliers_z_score[numerical_columns[:3]].count()"
   ]
  },
  {
   "cell_type": "markdown",
   "metadata": {},
   "source": [
    "### Q5 Correlation Analysis"
   ]
  },
  {
   "cell_type": "code",
   "execution_count": 14,
   "metadata": {},
   "outputs": [
    {
     "data": {
      "image/png": "[encoded data removed]",
      "text/plain": [
       "<Figure size 700x500 with 2 Axes>"
      ]
     },
     "metadata": {},
     "output_type": "display_data"
    }
   ],
   "source": [
    "# Heatmap of numerical columns\n",
    "plt.figure(figsize=(7,5))\n",
    "sns.heatmap(train_df[numerical_columns].dropna().corr(), annot=False, cmap='YlGnBu', linecolor='r', linewidths=0.5)\n",
    "plt.show()"
   ]
  },
  {
   "cell_type": "markdown",
   "metadata": {},
   "source": [
    "## Part 2: Data Preprocessing Techniques"
   ]
  },
  {
   "cell_type": "markdown",
   "metadata": {},
   "source": [
    "### Q7 Handling Missing Values"
   ]
  },
  {
   "cell_type": "markdown",
   "metadata": {},
   "source": [
    "Mean and median only applicable to numerical data.\\\n",
    "Catagorical feature use mode \\\n",
    "Discrete feature use median. \\\n",
    "Continuous feature use mean or median based on distribution."
   ]
  },
  {
   "cell_type": "code",
   "execution_count": 15,
   "metadata": {},
   "outputs": [],
   "source": [
    "# Remove regression from preprocessing\n",
    "float_columns.remove('regression target')\n",
    "train_df_processed = train_df.copy()"
   ]
  },
  {
   "cell_type": "code",
   "execution_count": 16,
   "metadata": {},
   "outputs": [
    {
     "data": {
      "image/png": "[encoded data removed]",
      "text/plain": [
       "<Figure size 1600x600 with 18 Axes>"
      ]
     },
     "metadata": {},
     "output_type": "display_data"
    }
   ],
   "source": [
    "# Plot histograms for numerical features\n",
    "fig, axes = plt.subplots(len(numerical_columns)//6, 6, figsize=(16, 6))\n",
    "for i, col in enumerate(numerical_columns):\n",
    "    rows = i//6\n",
    "    cols = i%6\n",
    "    axes[rows,cols].hist(train_df[col].dropna(), bins=50)\n",
    "    axes[rows,cols].set_xlabel(col)\n",
    "    axes[rows,cols].set_ylabel('Frequency')\n",
    "    axes[rows,cols].set_title('Histogram of ' + col)\n",
    "\n",
    "plt.tight_layout()\n",
    "plt.show()\n"
   ]
  },
  {
   "cell_type": "code",
   "execution_count": 17,
   "metadata": {},
   "outputs": [],
   "source": [
    "# Correct the data types of the columns\n",
    "false_float_columns = ['C17', 'C22', 'C23', 'C25']\n",
    "for col in false_float_columns:\n",
    "    float_columns.remove(col)\n",
    "    int_columns.append(col)\n",
    "int_columns.sort()"
   ]
  },
  {
   "cell_type": "code",
   "execution_count": 18,
   "metadata": {},
   "outputs": [
    {
     "name": "stdout",
     "output_type": "stream",
     "text": [
      "C6     66.326447\n",
      "C20    10.587526\n",
      "C26    10.211285\n",
      "C28    11.571686\n",
      "C29     1.238426\n",
      "C30    -0.004512\n",
      "dtype: float64\n",
      "C6     66.550000\n",
      "C20    12.285714\n",
      "C26    12.200000\n",
      "C28    11.100000\n",
      "C29     1.400000\n",
      "C30     0.320000\n",
      "dtype: float64\n",
      "      C6  C20  C26  C28  C29   C30\n",
      "0  66.55  0.0  0.0  7.6  1.4  0.32\n"
     ]
    }
   ],
   "source": [
    "# Check mean, median and mode of continuous columns\n",
    "print(train_df[['C6','C20','C26','C28', 'C29', 'C30']].dropna().mean())\n",
    "print(train_df[['C6','C20','C26','C28', 'C29', 'C30']].dropna().median())\n",
    "print(train_df[['C6','C20','C26','C28', 'C29', 'C30']].dropna().mode())"
   ]
  },
  {
   "cell_type": "code",
   "execution_count": 19,
   "metadata": {},
   "outputs": [],
   "source": [
    "# Impute missing values\n",
    "mode_imputer = SimpleImputer(strategy='most_frequent')\n",
    "train_df_processed[categorical_columns] = mode_imputer.fit_transform(train_df_processed[categorical_columns])\n",
    "\n",
    "mean_imputer = SimpleImputer(strategy='mean')\n",
    "train_df_processed[['C6']] = mean_imputer.fit_transform(train_df_processed[['C6']])\n",
    "median_imputer = SimpleImputer(strategy='median')\n",
    "train_df_processed[int_columns] = median_imputer.fit_transform(train_df_processed[int_columns])\n",
    "train_df_processed[['C28', 'C29', 'C30']] = median_imputer.fit_transform(train_df_processed[['C28', 'C29', 'C30']])\n",
    "train_df_processed[['C20', 'C26']] = median_imputer.fit_transform(train_df_processed[['C20', 'C26']])"
   ]
  },
  {
   "cell_type": "markdown",
   "metadata": {},
   "source": [
    "### Q8 Normalization and Standardization"
   ]
  },
  {
   "cell_type": "code",
   "execution_count": 20,
   "metadata": {},
   "outputs": [],
   "source": [
    "# Define scalers\n",
    "minmax_scaler = MinMaxScaler()\n",
    "std_scaler = StandardScaler()\n",
    "robust_scaler = RobustScaler()"
   ]
  },
  {
   "cell_type": "code",
   "execution_count": 21,
   "metadata": {},
   "outputs": [],
   "source": [
    "# Define the columns to be scaled\n",
    "normal_columns = ['C14', 'C16', 'C21', 'C22', 'C27', 'C28', 'C29', 'C30']\n",
    "std_columns = ['C6', 'C17', 'C18', 'C19', 'C23', 'C24', 'C25']\n",
    "robust_columns = ['C20', 'C26']"
   ]
  },
  {
   "cell_type": "code",
   "execution_count": 22,
   "metadata": {},
   "outputs": [],
   "source": [
    "# Scale the columns\n",
    "train_df_processed[normal_columns] = minmax_scaler.fit_transform(train_df_processed[normal_columns])\n",
    "train_df_processed[std_columns] = std_scaler.fit_transform(train_df_processed[std_columns])\n",
    "train_df_processed[robust_columns] = robust_scaler.fit_transform(train_df_processed[robust_columns])"
   ]
  },
  {
   "cell_type": "code",
   "execution_count": 23,
   "metadata": {},
   "outputs": [
    {
     "name": "stdout",
     "output_type": "stream",
     "text": [
      "  Before\tAfter\n",
      "0 65.0\t\t-0.20013\n",
      "1 65.0\t\t-0.20013\n",
      "2 59.5\t\t-1.03107\n",
      "3 66.55\t\t0.03404\n",
      "4 71.0\t\t0.70634\n",
      "5 70.0\t\t0.55526\n",
      "6 57.5\t\t-1.33323\n",
      "7 65.5\t\t-0.12459\n",
      "8 70.0\t\t0.55526\n",
      "9 80.0\t\t2.06606\n"
     ]
    }
   ],
   "source": [
    "# First numerical feature column of the first 10 samples before and after processing\n",
    "print('  Before\\tAfter')\n",
    "for i in range(10):\n",
    "    values = train_df[numerical_columns[:1]].loc[i].values\n",
    "    output1 = ' '.join(map(str, values))\n",
    "    values = np.round(train_df_processed[numerical_columns[:1]].loc[i].values,5)\n",
    "    output2 = ' '.join(map(str, values))\n",
    "    print(f'{i} {output1}\\t\\t{output2}')"
   ]
  },
  {
   "cell_type": "markdown",
   "metadata": {},
   "source": [
    "### Q9 Encoding Categorical Variables"
   ]
  },
  {
   "cell_type": "code",
   "execution_count": 24,
   "metadata": {},
   "outputs": [],
   "source": [
    "# Define the columns to be encoded\n",
    "binary_columns = ['C4','C8','C9','C10','C11','C12','C13','C15','classification target']\n",
    "ordinal_columns = ['C2','C5']\n",
    "nominal_columns = ['C0','C1','C3','C7']"
   ]
  },
  {
   "cell_type": "code",
   "execution_count": 25,
   "metadata": {},
   "outputs": [],
   "source": [
    "# Define the encoders\n",
    "binary_encoder = OneHotEncoder(sparse_output=False, drop='first')\n",
    "onehot_encoder = OneHotEncoder(sparse_output=False, drop='first')\n",
    "\n",
    "C2_order = ['first choice', 'second choice', 'third choice', 'fourth choice', 'fifth choice', 'sixth choice', 'seventh choice', 'last choice']\n",
    "C5_order = ['Basic education 2nd cycle (6th/7th/8th year) or equiv.', 'Basic education 3rd cycle (9th/10th/11th year) or equiv.', 'Secondary education',\\\n",
    "            '10th year of schooling - not completed', '10th year of schooling', '11th year of schooling - not completed', 'Other - 11th year of schooling',\\\n",
    "            '12th year of schooling - not completed', 'Frequency of higher education', 'Higher education - degree (1st cycle)', 'Higher education - degree',\\\n",
    "            \"Higher education - bachelor's degree\", 'Technological specialization course', 'Professional higher technical course', 'Higher education - master (2nd cycle)',\\\n",
    "            \"Higher education - master's\", 'Higher education - doctorate']\n",
    "\n",
    "ordinal_encoder = OrdinalEncoder(categories=[C2_order, C5_order])"
   ]
  },
  {
   "cell_type": "code",
   "execution_count": 26,
   "metadata": {},
   "outputs": [],
   "source": [
    "# Binary encoding\n",
    "train_df_processed[binary_columns] = binary_encoder.fit_transform(train_df_processed[binary_columns])"
   ]
  },
  {
   "cell_type": "code",
   "execution_count": 27,
   "metadata": {},
   "outputs": [],
   "source": [
    "# One-hot encoding\n",
    "onehot_encoded = onehot_encoder.fit_transform(train_df_processed[nominal_columns])\n",
    "onehot_encoded_df = pd.DataFrame(onehot_encoded, columns=onehot_encoder.get_feature_names_out(nominal_columns))\n",
    "onehot_encoded_df.head()\n",
    "train_df_processed = pd.concat([train_df_processed, onehot_encoded_df], axis=1)\n",
    "train_df_processed.drop(nominal_columns, axis=1, inplace=True)"
   ]
  },
  {
   "cell_type": "code",
   "execution_count": 28,
   "metadata": {},
   "outputs": [],
   "source": [
    "# Ordinal encoding\n",
    "train_df_processed[ordinal_columns] = ordinal_encoder.fit_transform(train_df_processed[ordinal_columns])\n"
   ]
  },
  {
   "cell_type": "code",
   "execution_count": 29,
   "metadata": {},
   "outputs": [],
   "source": [
    "# Re-order columns\n",
    "train_df_processed = train_df_processed.reindex(columns=natsorted(train_df_processed.columns))"
   ]
  },
  {
   "cell_type": "code",
   "execution_count": 30,
   "metadata": {},
   "outputs": [
    {
     "name": "stdout",
     "output_type": "stream",
     "text": [
      "0    divorced\n",
      "1      single\n",
      "2      single\n",
      "3     married\n",
      "4      single\n",
      "5      single\n",
      "6      single\n",
      "7      single\n",
      "8      single\n",
      "9      single\n",
      "Name: C0, dtype: object\n",
      "   C0_facto union  C0_legally separated  C0_married  C0_single  C0_widower\n",
      "0             0.0                   0.0         0.0        0.0         0.0\n",
      "1             0.0                   0.0         0.0        1.0         0.0\n",
      "2             0.0                   0.0         0.0        1.0         0.0\n",
      "3             0.0                   0.0         1.0        0.0         0.0\n",
      "4             0.0                   0.0         0.0        1.0         0.0\n",
      "5             0.0                   0.0         0.0        1.0         0.0\n",
      "6             0.0                   0.0         0.0        1.0         0.0\n",
      "7             0.0                   0.0         0.0        1.0         0.0\n",
      "8             0.0                   0.0         0.0        1.0         0.0\n",
      "9             0.0                   0.0         0.0        1.0         0.0\n"
     ]
    }
   ],
   "source": [
    "# First categorical feature column of the first 10 samples before and after processing\n",
    "print(train_df['C0'][:10])\n",
    "print(onehot_encoded_df[onehot_encoded_df.columns.tolist()[:5]][:10])"
   ]
  },
  {
   "cell_type": "markdown",
   "metadata": {},
   "source": [
    "### Q10 Feature Selection"
   ]
  },
  {
   "cell_type": "code",
   "execution_count": 31,
   "metadata": {},
   "outputs": [],
   "source": [
    "# Define the target columns\n",
    "classif_target = train_df_processed['classification target']\n",
    "regress_target = train_df_processed['regression target']"
   ]
  },
  {
   "cell_type": "code",
   "execution_count": 32,
   "metadata": {},
   "outputs": [],
   "source": [
    "# Define feature selection modules\n",
    "var_selector = VarianceThreshold(threshold=0.1)\n",
    "kbest_selector_linear = SelectKBest(k=10, score_func=f_regression)\n",
    "kbest_selector_logistic = SelectKBest(k=10, score_func=f_classif)\n",
    "rfe_selector_linear = RFE(estimator=LinearRegression(), n_features_to_select=10)\n",
    "rfe_selector_logistic = RFE(estimator=SGDClassifier(loss='log_loss', random_state=4211), n_features_to_select=10)\n",
    "sfm_selector_linear = SelectFromModel(estimator=LinearRegression())\n",
    "sfm_selector_logistic = SelectFromModel(estimator=SGDClassifier(loss='log_loss', random_state=4211))\n",
    "fpr_selector_linear = SelectFpr(score_func=f_regression)\n",
    "fpr_selector_logistic = SelectFpr(score_func=f_classif)\n",
    "sfs_selector_linear = SequentialFeatureSelector(estimator=LinearRegression(), n_features_to_select=10)\n",
    "sfs_selector_logistic = SequentialFeatureSelector(estimator=SGDClassifier(loss='log_loss', random_state=4211), n_features_to_select=10)"
   ]
  },
  {
   "cell_type": "code",
   "execution_count": 33,
   "metadata": {},
   "outputs": [
    {
     "name": "stderr",
     "output_type": "stream",
     "text": [
      "c:\\Users\\rmi87\\.conda\\envs\\course02450\\Lib\\site-packages\\sklearn\\feature_selection\\_univariate_selection.py:113: RuntimeWarning: divide by zero encountered in divide\n",
      "  f = msb / msw\n"
     ]
    }
   ],
   "source": [
    "# Feature selection\n",
    "X_var = var_selector.fit_transform(train_df_processed.drop(columns=['classification target', 'regression target']))\n",
    "var_features = train_df_processed.drop(columns=['classification target', 'regression target']).columns[var_selector.get_support()].tolist()\n",
    "\n",
    "X_kbest_linear = kbest_selector_linear.fit_transform(train_df_processed.drop(columns=['classification target', 'regression target']), classif_target)\n",
    "kbest_features_linear = train_df_processed.drop(columns=['classification target', 'regression target']).columns[kbest_selector_linear.get_support()].tolist()\n",
    "\n",
    "X_kbest_logistic = kbest_selector_logistic.fit_transform(train_df_processed.drop(columns=['classification target', 'regression target']), regress_target)\n",
    "kbest_features_logistic = train_df_processed.drop(columns=['classification target', 'regression target']).columns[kbest_selector_logistic.get_support()].tolist()\n",
    "\n",
    "X_rfe_linear = rfe_selector_linear.fit_transform(train_df_processed.drop(columns=['classification target', 'regression target']), regress_target)\n",
    "rfe_features_linear = train_df_processed.drop(columns=['classification target', 'regression target']).columns[rfe_selector_linear.get_support()].tolist()\n",
    "\n",
    "X_rfe_logistic = rfe_selector_logistic.fit_transform(train_df_processed.drop(columns=['classification target', 'regression target']), classif_target)\n",
    "rfe_features_logistic = train_df_processed.drop(columns=['classification target', 'regression target']).columns[rfe_selector_logistic.get_support()].tolist()\n",
    "\n",
    "X_sfm_linear = sfm_selector_linear.fit_transform(train_df_processed.drop(columns=['classification target', 'regression target']), regress_target)\n",
    "sfm_features_linear = train_df_processed.drop(columns=['classification target', 'regression target']).columns[sfm_selector_linear.get_support()].tolist()\n",
    "\n",
    "X_sfm_logistic = sfm_selector_logistic.fit_transform(train_df_processed.drop(columns=['classification target', 'regression target']), classif_target)\n",
    "sfm_features_logistic = train_df_processed.drop(columns=['classification target', 'regression target']).columns[sfm_selector_logistic.get_support()].tolist()\n",
    "\n",
    "X_fpr_linear = fpr_selector_linear.fit_transform(train_df_processed.drop(columns=['classification target', 'regression target']), regress_target)\n",
    "fpr_features_linear = train_df_processed.drop(columns=['classification target', 'regression target']).columns[fpr_selector_linear.get_support()].tolist()\n",
    "\n",
    "X_fpr_logistic = fpr_selector_logistic.fit_transform(train_df_processed.drop(columns=['classification target', 'regression target']), classif_target)\n",
    "fpr_features_logistic = train_df_processed.drop(columns=['classification target', 'regression target']).columns[fpr_selector_logistic.get_support()].tolist()\n",
    "\n",
    "X_sfs_linear = sfs_selector_linear.fit_transform(train_df_processed.drop(columns=['classification target', 'regression target']), regress_target)\n",
    "sfs_features_linear = train_df_processed.drop(columns=['classification target', 'regression target']).columns[sfs_selector_linear.get_support()].tolist()\n",
    "\n",
    "X_sfs_logistic = sfs_selector_logistic.fit_transform(train_df_processed.drop(columns=['classification target', 'regression target']), classif_target)\n",
    "sfs_features_logistic = train_df_processed.drop(columns=['classification target', 'regression target']).columns[sfs_selector_logistic.get_support()].tolist()"
   ]
  },
  {
   "cell_type": "code",
   "execution_count": 34,
   "metadata": {},
   "outputs": [
    {
     "data": {
      "text/plain": [
       "['C6',\n",
       " 'C20',\n",
       " 'C1_Ordinance No. 854-B/99',\n",
       " 'C1_Over 23 years old',\n",
       " 'C5',\n",
       " 'C19',\n",
       " 'C25',\n",
       " 'C26',\n",
       " 'C0_widower',\n",
       " 'C7_Cuban',\n",
       " 'C7_Mexican',\n",
       " 'C7_Turkish',\n",
       " 'C3_Animation and Multimedia Design']"
      ]
     },
     "execution_count": 34,
     "metadata": {},
     "output_type": "execute_result"
    }
   ],
   "source": [
    "# Feature selection for regression\n",
    "regress_selected_features = var_features + kbest_features_linear + rfe_features_linear + sfm_features_linear + fpr_features_linear + sfs_features_linear\n",
    "\n",
    "feature_count = {}\n",
    "for feature in regress_selected_features:\n",
    "    if feature in feature_count:\n",
    "        feature_count[feature] += 1\n",
    "    else:\n",
    "        feature_count[feature] = 1\n",
    "# Sort feature_count based on count\n",
    "sorted_features = sorted(feature_count.items(), key=lambda x: x[1], reverse=True)\n",
    "regression_features = [feature for feature, count in sorted_features if count > 2]\n",
    "regression_features"
   ]
  },
  {
   "cell_type": "code",
   "execution_count": 35,
   "metadata": {},
   "outputs": [
    {
     "data": {
      "text/plain": [
       "['C25',\n",
       " 'C14',\n",
       " 'C11',\n",
       " 'C5',\n",
       " 'C6',\n",
       " 'C10',\n",
       " 'C19',\n",
       " 'C23',\n",
       " 'C3_Animation and Multimedia Design']"
      ]
     },
     "execution_count": 35,
     "metadata": {},
     "output_type": "execute_result"
    }
   ],
   "source": [
    "# Feature selection for classification\n",
    "classif_selected_features = var_features + kbest_features_logistic + rfe_features_logistic + sfm_features_logistic + fpr_features_logistic + sfs_features_logistic\n",
    "\n",
    "feature_count = {}\n",
    "for feature in classif_selected_features:\n",
    "    if feature in feature_count:\n",
    "        feature_count[feature] += 1\n",
    "    else:\n",
    "        feature_count[feature] = 1\n",
    "# Sort feature_count based on count\n",
    "sorted_features = sorted(feature_count.items(), key=lambda x: x[1], reverse=True)\n",
    "classification_features = [feature for feature, count in sorted_features if count > 2]\n",
    "classification_features"
   ]
  },
  {
   "cell_type": "markdown",
   "metadata": {},
   "source": [
    "### Q11 Feature Engineering"
   ]
  },
  {
   "cell_type": "markdown",
   "metadata": {},
   "source": [
    "Do feature engineering on highly corelated features."
   ]
  },
  {
   "cell_type": "code",
   "execution_count": 36,
   "metadata": {},
   "outputs": [],
   "source": [
    "# Define potential feature engineering columns\n",
    "high_corr_columns = ['C16', 'C17', 'C18', 'C19', 'C20', 'C22', 'C23', 'C24', 'C25', 'C26']"
   ]
  },
  {
   "cell_type": "code",
   "execution_count": 37,
   "metadata": {},
   "outputs": [],
   "source": [
    "# Feature engineering\n",
    "high_corr_features = train_df_processed[high_corr_columns].sum(axis=1)\n",
    "high_corr_features_df = pd.DataFrame(high_corr_features, columns=['high_corr_features'])\n",
    "train_df_processed = pd.concat([train_df_processed, high_corr_features_df], axis=1)"
   ]
  },
  {
   "cell_type": "markdown",
   "metadata": {},
   "source": [
    "## Part 3: Regression"
   ]
  },
  {
   "cell_type": "markdown",
   "metadata": {},
   "source": [
    "### Linear Regression"
   ]
  },
  {
   "cell_type": "markdown",
   "metadata": {},
   "source": [
    "6 features: 'C1_Ordinance No. 854-B/99', 'C5', 'C6', 'C19', 'C20', 'C26'"
   ]
  },
  {
   "cell_type": "code",
   "execution_count": 38,
   "metadata": {},
   "outputs": [],
   "source": [
    "# Define the columns to be used for regression\n",
    "regress_features = ['C1_Ordinance No. 854-B/99','C5','C6','C19','C20','C26']\n",
    "\n",
    "# Split the data into training and testing sets\n",
    "trainX_C1, testX_C1, trainY_C1, testY_C1 = train_test_split(train_df_processed['C1_Ordinance No. 854-B/99'], regress_target, test_size=0.2, random_state=4211)\n",
    "trainX_C5, testX_C5, trainY_C5, testY_C5 = train_test_split(train_df_processed['C5'], regress_target, test_size=0.2, random_state=4211)\n",
    "trainX_C6, testX_C6, trainY_C6, testY_C6 = train_test_split(train_df_processed['C6'], regress_target, test_size=0.2, random_state=4211)\n",
    "trainX_C19, testX_C19, trainY_C19, testY_C19 = train_test_split(train_df_processed['C19'], regress_target, test_size=0.2, random_state=4211)\n",
    "trainX_C20, testX_C20, trainY_C20, testY_C20 = train_test_split(train_df_processed['C20'], regress_target, test_size=0.2, random_state=4211)\n",
    "trainX_C26, testX_C26, trainY_C26, testY_C26 = train_test_split(train_df_processed['C26'], regress_target, test_size=0.2, random_state=4211)\n",
    "trainX, testX, trainY, testY = train_test_split(train_df_processed[regress_features], regress_target, test_size=0.2, random_state=4211)"
   ]
  },
  {
   "cell_type": "code",
   "execution_count": 39,
   "metadata": {},
   "outputs": [],
   "source": [
    "# Train the model\n",
    "model = LinearRegression()\n",
    "\n",
    "reg_C1 = model.fit(trainX_C1.values.reshape(-1, 1), trainY_C1)\n",
    "pred_C1 = reg_C1.predict(testX_C1.values.reshape(-1, 1))\n",
    "\n",
    "reg_C5 = model.fit(trainX_C5.values.reshape(-1, 1), trainY_C5)\n",
    "pred_C5 = reg_C5.predict(testX_C5.values.reshape(-1, 1))\n",
    "\n",
    "reg_C6 = model.fit(trainX_C6.values.reshape(-1, 1), trainY_C6)\n",
    "pred_C6 = reg_C6.predict(testX_C6.values.reshape(-1, 1))\n",
    "\n",
    "reg_C19 = model.fit(trainX_C19.values.reshape(-1, 1), trainY_C19)\n",
    "pred_C19 = reg_C19.predict(testX_C19.values.reshape(-1, 1))\n",
    "\n",
    "reg_C20 = model.fit(trainX_C20.values.reshape(-1, 1), trainY_C20)\n",
    "pred_C20 = reg_C20.predict(testX_C20.values.reshape(-1, 1))\n",
    "\n",
    "reg_C26 = model.fit(trainX_C26.values.reshape(-1, 1), trainY_C26)\n",
    "pred_C26 = reg_C26.predict(testX_C26.values.reshape(-1, 1))\n",
    "\n",
    "start = time.time()\n",
    "reg = model.fit(trainX, trainY)\n",
    "end = time.time()\n",
    "linear_regress_train_time = end - start\n",
    "pred = reg.predict(testX)"
   ]
  },
  {
   "cell_type": "code",
   "execution_count": 40,
   "metadata": {},
   "outputs": [],
   "source": [
    "# Evaluate the model\n",
    "r2_C1 = r2_score(testY_C1, pred_C1)\n",
    "mse_C1 = mean_squared_error(testY_C1, pred_C1)\n",
    "\n",
    "r2_C5 = r2_score(testY_C5, pred_C5)\n",
    "mse_C5 = mean_squared_error(testY_C5, pred_C5)\n",
    "\n",
    "r2_C6 = r2_score(testY_C6, pred_C6)\n",
    "mse_C6 = mean_squared_error(testY_C6, pred_C6)\n",
    "\n",
    "r2_C19 = r2_score(testY_C19, pred_C19)\n",
    "mse_C19 = mean_squared_error(testY_C19, pred_C19)\n",
    "\n",
    "r2_C20 = r2_score(testY_C20, pred_C20)\n",
    "mse_C20 = mean_squared_error(testY_C20, pred_C20)\n",
    "\n",
    "r2_C26 = r2_score(testY_C26, pred_C26)\n",
    "mse_C26 = mean_squared_error(testY_C26, pred_C26)\n",
    "\n",
    "r2 = r2_score(testY, pred)\n",
    "mse = mean_squared_error(testY, pred)"
   ]
  },
  {
   "cell_type": "markdown",
   "metadata": {},
   "source": [
    "### Q12, Q14"
   ]
  },
  {
   "cell_type": "markdown",
   "metadata": {},
   "source": [
    "Q14: A feature with more than 2 categories (C1_Ordinance No. 854-B/99) is already selected in the regression features."
   ]
  },
  {
   "cell_type": "code",
   "execution_count": 41,
   "metadata": {},
   "outputs": [
    {
     "name": "stdout",
     "output_type": "stream",
     "text": [
      "C1_Ordinance No. 854-B/99: 0.011548403410835295\n",
      "C5: 0.046747019714568405\n",
      "C6: 0.3457983455467898\n",
      "C19: -0.007753410265295191\n",
      "C20: -0.009428052250592733\n",
      "C26: -0.007736001857362451\n",
      "Overall: 0.3697990755132665\n"
     ]
    }
   ],
   "source": [
    "# R2 score results\n",
    "r2s = [r2_C1, r2_C5, r2_C6, r2_C19, r2_C20, r2_C26, r2]\n",
    "for i, col in enumerate(regress_features):\n",
    "    print(f'{col}: {r2s[i]}')\n",
    "print(f'Overall: {r2s[-1]}')"
   ]
  },
  {
   "cell_type": "markdown",
   "metadata": {},
   "source": [
    "### Q13"
   ]
  },
  {
   "cell_type": "code",
   "execution_count": 42,
   "metadata": {},
   "outputs": [
    {
     "name": "stdout",
     "output_type": "stream",
     "text": [
      "C1_Ordinance No. 854-B/99: 0.004808237669322762\n",
      "C5: 0.0046370170315053385\n",
      "C6: 0.0031823076103367387\n",
      "C19: 0.004902129679739934\n",
      "C20: 0.00491027583146261\n",
      "C26: 0.004902044998038702\n",
      "Combined: 0.0030655581262807965\n"
     ]
    }
   ],
   "source": [
    "# MSE results\n",
    "mses = [mse_C1, mse_C5, mse_C6, mse_C19, mse_C20, mse_C26, mse]\n",
    "for i, col in enumerate(regress_features):\n",
    "    print(f'{col}: {mses[i]}')\n",
    "print(f'Combined: {mses[-1]}')"
   ]
  },
  {
   "cell_type": "markdown",
   "metadata": {},
   "source": [
    "### Feed Forward Neural Network"
   ]
  },
  {
   "cell_type": "code",
   "execution_count": 43,
   "metadata": {},
   "outputs": [],
   "source": [
    "# Hidden layer sizes\n",
    "H = [1,8,32,128]\n",
    "train_time_mlp_r = np.zeros((len(H), 3))\n",
    "r2_scores = np.zeros((len(H), 3))"
   ]
  },
  {
   "cell_type": "code",
   "execution_count": 44,
   "metadata": {},
   "outputs": [
    {
     "name": "stderr",
     "output_type": "stream",
     "text": [
      "c:\\Users\\rmi87\\.conda\\envs\\course02450\\Lib\\site-packages\\sklearn\\neural_network\\_multilayer_perceptron.py:686: ConvergenceWarning: Stochastic Optimizer: Maximum iterations (200) reached and the optimization hasn't converged yet.\n",
      "  warnings.warn(\n"
     ]
    }
   ],
   "source": [
    "# Train the model\n",
    "for i, h in enumerate(H):\n",
    "    mlp_regressor = MLPRegressor(hidden_layer_sizes=(h,h,h), early_stopping=True)\n",
    "    #print(h)\n",
    "    for j in range(3):\n",
    "        start = time.time()\n",
    "        mlp_regressor.fit(trainX, trainY)\n",
    "        end = time.time()\n",
    "        train_time_mlp_r[i,j] = end - start\n",
    "        pred = mlp_regressor.predict(testX)\n",
    "        r2_scores[i,j] = r2_score(testY, pred)"
   ]
  },
  {
   "cell_type": "markdown",
   "metadata": {},
   "source": [
    "### Q15"
   ]
  },
  {
   "cell_type": "code",
   "execution_count": 45,
   "metadata": {},
   "outputs": [],
   "source": [
    "# Mean and standard deviation of the results\n",
    "mean_train_time_mlp_r = np.mean(train_time_mlp_r, axis=1)\n",
    "std_train_time_mlp_r = np.std(train_time_mlp_r, axis=1)\n",
    "mean_r2_scores = np.mean(r2_scores, axis=1)\n",
    "std_r2_scores = np.std(r2_scores, axis=1)"
   ]
  },
  {
   "cell_type": "code",
   "execution_count": 46,
   "metadata": {},
   "outputs": [
    {
     "name": "stdout",
     "output_type": "stream",
     "text": [
      "Mean train time: [0.91607976 0.99840204 0.9218332  0.79951278]\n",
      "Std train time: [0.25944911 0.25876296 0.28536175 0.27510935]\n",
      "Mean R2 score: [-1.50292545  0.30425355  0.34659805  0.3933461 ]\n",
      "Std R2 score: [2.41582345 0.09595114 0.02095513 0.01608883]\n"
     ]
    }
   ],
   "source": [
    "# Results\n",
    "print(f'Mean train time: {mean_train_time_mlp_r}')\n",
    "print(f'Std train time: {std_train_time_mlp_r}')\n",
    "print(f'Mean R2 score: {mean_r2_scores}')\n",
    "print(f'Std R2 score: {std_r2_scores}')"
   ]
  },
  {
   "cell_type": "code",
   "execution_count": 47,
   "metadata": {},
   "outputs": [
    {
     "data": {
      "image/png": "[encoded data removed]",
      "text/plain": [
       "<Figure size 400x300 with 1 Axes>"
      ]
     },
     "metadata": {},
     "output_type": "display_data"
    }
   ],
   "source": [
    "# Plot the R2 scores  \n",
    "plt.figure(figsize=(4,3))\n",
    "plt.plot(H, mean_r2_scores, marker='o')\n",
    "plt.xlabel('H')\n",
    "plt.ylabel('R2 Score')\n",
    "plt.title('R2 Score for each value of H')\n",
    "plt.show()\n"
   ]
  },
  {
   "cell_type": "markdown",
   "metadata": {},
   "source": [
    "### Q16"
   ]
  },
  {
   "cell_type": "code",
   "execution_count": 48,
   "metadata": {},
   "outputs": [
    {
     "name": "stdout",
     "output_type": "stream",
     "text": [
      "Linear Regression:\n",
      "Train time: 0.00000, R2 Score: 0.36980\n",
      "\n",
      "Feedforward Neural Network:\n",
      "Train time: 0.79951, R2 Score: 0.39335\n",
      "\n"
     ]
    }
   ],
   "source": [
    "# Compare the models\n",
    "models = ['Linear Regression', 'Feedforward Neural Network']\n",
    "train_time_values = [linear_regress_train_time, mean_train_time_mlp_r[np.argmax(mean_r2_scores)]]\n",
    "r2_values = [r2, np.max(mean_r2_scores)]\n",
    "for i in range(2):\n",
    "    print(f'{models[i]}:\\nTrain time: {train_time_values[i]:.5f}, R2 Score: {r2_values[i]:.5f}\\n')"
   ]
  },
  {
   "cell_type": "markdown",
   "metadata": {},
   "source": [
    "## Part 4: Classification"
   ]
  },
  {
   "cell_type": "markdown",
   "metadata": {},
   "source": [
    "### Logistic Regression"
   ]
  },
  {
   "cell_type": "markdown",
   "metadata": {},
   "source": [
    "### Q17"
   ]
  },
  {
   "cell_type": "code",
   "execution_count": 49,
   "metadata": {},
   "outputs": [],
   "source": [
    "# Define the columns to be used for classification\n",
    "classif_features = classification_features\n",
    "trainX, testX, trainY, testY = train_test_split(train_df_processed[classif_features], classif_target, test_size=0.2, random_state=4211)"
   ]
  },
  {
   "cell_type": "code",
   "execution_count": 50,
   "metadata": {},
   "outputs": [],
   "source": [
    "# Learning rates\n",
    "step = np.logspace(-4, -1, 4)\n",
    "train_time = np.zeros((len(step), 3))\n",
    "acc = np.zeros((len(step), 3))\n",
    "f1 = np.zeros((len(step), 3))"
   ]
  },
  {
   "cell_type": "code",
   "execution_count": 51,
   "metadata": {},
   "outputs": [],
   "source": [
    "# Train the model\n",
    "for i, h in enumerate(step):\n",
    "    logistic_regress = SGDClassifier(loss='log_loss', eta0=h, learning_rate='optimal')\n",
    "    for j in range(3):\n",
    "        start = time.time()\n",
    "        logistic_regress.fit(trainX, trainY)\n",
    "        end = time.time()\n",
    "        train_time[i,j] = end - start\n",
    "        pred =  logistic_regress.predict(testX)\n",
    "        acc[i,j] = accuracy_score(testY, pred)\n",
    "        f1[i,j] = f1_score(testY, pred, average='weighted')"
   ]
  },
  {
   "cell_type": "code",
   "execution_count": 52,
   "metadata": {},
   "outputs": [],
   "source": [
    "# Mean and standard deviation of the results\n",
    "mean_train_time_lr = np.mean(train_time, axis=1)\n",
    "std_train_time_lr = np.std(train_time, axis=1)\n",
    "mean_acc_lr = np.mean(acc, axis=1)\n",
    "std_acc_lr = np.std(acc, axis=1)\n",
    "mean_f1_lr = np.mean(f1, axis=1)\n",
    "std_f1_lr = np.std(f1, axis=1)"
   ]
  },
  {
   "cell_type": "code",
   "execution_count": 53,
   "metadata": {},
   "outputs": [
    {
     "name": "stdout",
     "output_type": "stream",
     "text": [
      "Step: [0.0001 0.001  0.01   0.1   ]\n",
      "Mean train time: [0.02321688 0.01837238 0.02483503 0.01413043]\n",
      "Std train time: [0.00484038 0.00586841 0.00812793 0.00287667]\n",
      "Mean accuracy: [0.85828625 0.86723164 0.86016949 0.86770245]\n",
      "Std accuracy score: [0.02290092 0.00985332 0.00900712 0.01531399]\n",
      "Mean F1 score: [0.85486896 0.86180619 0.85322865 0.86352934]\n",
      "Std F1 score: [0.01859662 0.00921284 0.00980274 0.01636555]\n"
     ]
    }
   ],
   "source": [
    "# Results\n",
    "print(f'Step: {step}')\n",
    "print(f'Mean train time: {mean_train_time_lr}')\n",
    "print(f'Std train time: {std_train_time_lr}')\n",
    "print(f'Mean accuracy: {mean_acc_lr}')\n",
    "print(f'Std accuracy score: {std_acc_lr}')\n",
    "print(f'Mean F1 score: {mean_f1_lr}')\n",
    "print(f'Std F1 score: {std_f1_lr}')"
   ]
  },
  {
   "cell_type": "markdown",
   "metadata": {},
   "source": [
    "### Q18"
   ]
  },
  {
   "cell_type": "code",
   "execution_count": 54,
   "metadata": {},
   "outputs": [
    {
     "data": {
      "image/png": "[encoded data removed]",
      "text/plain": [
       "<Figure size 400x300 with 1 Axes>"
      ]
     },
     "metadata": {},
     "output_type": "display_data"
    }
   ],
   "source": [
    "# Get the predicted probabilities for the positive class\n",
    "probs = logistic_regress.predict_proba(testX)[:, 1]\n",
    "\n",
    "# Calculate the false positive rate, true positive rate, and thresholds\n",
    "fpr, tpr, thresholds = roc_curve(testY, probs)\n",
    "\n",
    "# Calculate the AUC value\n",
    "auc_value = auc(fpr, tpr)\n",
    "\n",
    "# Plot the ROC curve\n",
    "plt.figure(figsize=(4,3))\n",
    "plt.plot(fpr, tpr, label=f'AUC: {auc_value:.3f}')\n",
    "plt.plot([0, 1], [0, 1], linestyle='--', color='r')  # Add diagonal line\n",
    "plt.xlabel('False Positive Rate')\n",
    "plt.ylabel('True Positive Rate')\n",
    "plt.title('ROC Curve')\n",
    "plt.legend(loc='lower right')\n",
    "plt.show()\n"
   ]
  },
  {
   "cell_type": "markdown",
   "metadata": {},
   "source": [
    "### Feedforward Neural Networks"
   ]
  },
  {
   "cell_type": "code",
   "execution_count": 55,
   "metadata": {},
   "outputs": [],
   "source": [
    "# Hidden layer sizes\n",
    "H = [1,8,32,128]\n",
    "train_time_mlp_c = np.zeros((len(H), 3))\n",
    "acc = np.zeros((len(H), 3))\n",
    "f1 = np.zeros((len(H), 3))"
   ]
  },
  {
   "cell_type": "code",
   "execution_count": 56,
   "metadata": {},
   "outputs": [],
   "source": [
    "# Train the model\n",
    "for i, h in enumerate(H):\n",
    "    mlp_classif = MLPClassifier(hidden_layer_sizes=(h,h,h), early_stopping=True, solver='sgd')\n",
    "    for j in range(3):\n",
    "        start = time.time()\n",
    "        mlp_classif.fit(trainX, trainY)\n",
    "        end = time.time()\n",
    "        train_time_mlp_c[i,j] = end - start\n",
    "        pred = mlp_classif.predict(testX)\n",
    "        acc[i,j] = accuracy_score(testY, pred)\n",
    "        f1[i,j] = f1_score(testY, pred, average='weighted')"
   ]
  },
  {
   "cell_type": "code",
   "execution_count": 57,
   "metadata": {},
   "outputs": [],
   "source": [
    "# Mean and standard deviation of the results\n",
    "mean_train_time_mlp_c = np.mean(train_time_mlp_c, axis=1)\n",
    "std_train_time_mlp_c = np.std(train_time_mlp_c, axis=1)\n",
    "mean_acc_mlp_c = np.mean(acc, axis=1)\n",
    "std_acc_mlp_c = np.std(acc, axis=1)\n",
    "mean_f1_mlp_c = np.mean(f1, axis=1)\n",
    "std_f1_mlp_c = np.std(f1, axis=1)"
   ]
  },
  {
   "cell_type": "markdown",
   "metadata": {},
   "source": [
    "### Q20"
   ]
  },
  {
   "cell_type": "code",
   "execution_count": 58,
   "metadata": {},
   "outputs": [
    {
     "name": "stdout",
     "output_type": "stream",
     "text": [
      "Mean train time: [0.08022642 0.35109878 0.54772417 1.81076423]\n",
      "Std train time: [0.00277016 0.22281715 0.28506704 0.61133515]\n",
      "Mean accuracy: [0.43455744 0.74246704 0.80602637 0.86299435]\n",
      "Std accuracy score: [0.18509952 0.06525091 0.07758797 0.01585448]\n",
      "Mean F1 score: [0.2848726  0.66274012 0.76042969 0.85524405]\n",
      "Std F1 score: [0.2027984  0.11537647 0.13347197 0.01755754]\n"
     ]
    }
   ],
   "source": [
    "# Results\n",
    "print(f'Mean train time: {mean_train_time_mlp_c}')\n",
    "print(f'Std train time: {std_train_time_mlp_c}')\n",
    "print(f'Mean accuracy: {mean_acc_mlp_c}')\n",
    "print(f'Std accuracy score: {std_acc_mlp_c}')\n",
    "print(f'Mean F1 score: {mean_f1_mlp_c}')\n",
    "print(f'Std F1 score: {std_f1_mlp_c}')"
   ]
  },
  {
   "cell_type": "markdown",
   "metadata": {},
   "source": [
    "### Q21"
   ]
  },
  {
   "cell_type": "code",
   "execution_count": 59,
   "metadata": {},
   "outputs": [
    {
     "data": {
      "image/png": "[encoded data removed]",
      "text/plain": [
       "<Figure size 400x300 with 1 Axes>"
      ]
     },
     "metadata": {},
     "output_type": "display_data"
    }
   ],
   "source": [
    "# Plot the accuracy and F1 scores\n",
    "plt.figure(figsize=(4,3))\n",
    "plt.plot(H, mean_acc_mlp_c, marker='o', label='Accuracy')\n",
    "plt.plot(H, mean_f1_mlp_c, marker='o', label='F1 Score')\n",
    "plt.xlabel('H')\n",
    "plt.ylabel('Accuracy')\n",
    "plt.title('Accuracy for each value of H')\n",
    "plt.legend(loc='lower right')\n",
    "plt.show()"
   ]
  },
  {
   "cell_type": "code",
   "execution_count": 60,
   "metadata": {},
   "outputs": [
    {
     "name": "stdout",
     "output_type": "stream",
     "text": [
      "classification target\n",
      "1.0    2434\n",
      "0.0    1105\n",
      "Name: count, dtype: int64\n"
     ]
    }
   ],
   "source": [
    "# Count of the classification target categories\n",
    "classification_target_counts = classif_target.value_counts()\n",
    "print(classification_target_counts)\n"
   ]
  },
  {
   "cell_type": "markdown",
   "metadata": {},
   "source": [
    "### Q22"
   ]
  },
  {
   "cell_type": "code",
   "execution_count": 61,
   "metadata": {},
   "outputs": [
    {
     "name": "stdout",
     "output_type": "stream",
     "text": [
      "Logistic Regression:\n",
      "Train time: 0.01413, Accuracy: 0.86770, f1 score: 0.86353\n",
      "\n",
      "Feedforward Neural Network:\n",
      "Train time: 1.81076, Accuracy: 0.86299, f1 score: 0.85524\n",
      "\n"
     ]
    }
   ],
   "source": [
    "# Compare the models\n",
    "models = ['Logistic Regression', 'Feedforward Neural Network']\n",
    "train_time_values_2 = [mean_train_time_lr[np.argmax(mean_f1_lr)], mean_train_time_mlp_c[np.argmax(mean_f1_mlp_c)]]\n",
    "acc_values = [mean_acc_lr[np.argmax(mean_f1_lr)], np.max(mean_acc_mlp_c)]\n",
    "f1_values = [np.max(mean_f1_lr), np.max(mean_f1_mlp_c)]\n",
    "for i in range(2):\n",
    "    print(f'{models[i]}:\\nTrain time: {train_time_values_2[i]:.5f}, Accuracy: {acc_values[i]:.5f}, f1 score: {f1_values[i]:.5f}\\n')"
   ]
  },
  {
   "cell_type": "markdown",
   "metadata": {},
   "source": [
    "### Part 5: Performance Enhancement"
   ]
  },
  {
   "cell_type": "code",
   "execution_count": 62,
   "metadata": {},
   "outputs": [],
   "source": [
    "# Fixed model for combination comparison\n",
    "trainX, testX, trainY, testY = train_test_split(train_df.drop(columns=['classification target', 'regression target'],axis=1), train_df['classification target'], test_size=0.2, random_state=4211)\n",
    "mlp_classifier = MLPClassifier(hidden_layer_sizes=(32,32,32), early_stopping=True, solver='sgd')"
   ]
  },
  {
   "cell_type": "markdown",
   "metadata": {},
   "source": [
    "### Q24 Combination A"
   ]
  },
  {
   "cell_type": "markdown",
   "metadata": {},
   "source": [
    "For numerical features, apply StandardScaler and SimpleImputer with mean strategy for imputation. For categorical features, use OneHotEncoder for encoding."
   ]
  },
  {
   "cell_type": "code",
   "execution_count": 63,
   "metadata": {},
   "outputs": [],
   "source": [
    "numeric_features = train_df.select_dtypes(include=np.number).columns.tolist()\n",
    "numeric_features.remove('regression target')\n",
    "numeric_transformer = Pipeline(\n",
    "    steps=[\n",
    "        ('imputer', SimpleImputer(strategy='mean')),\n",
    "        ('scaler', StandardScaler())\n",
    "    ])"
   ]
  },
  {
   "cell_type": "code",
   "execution_count": 64,
   "metadata": {},
   "outputs": [],
   "source": [
    "categorical_features = train_df.select_dtypes(include='object').columns.tolist()\n",
    "categorical_features.remove('classification target')\n",
    "categorical_transformer = Pipeline(\n",
    "    steps=[\n",
    "        ('imputer', SimpleImputer(strategy='most_frequent')),\n",
    "        ('onehot', OneHotEncoder(sparse_output=False, drop='first', handle_unknown='ignore'))\n",
    "    ])"
   ]
  },
  {
   "cell_type": "code",
   "execution_count": 65,
   "metadata": {},
   "outputs": [],
   "source": [
    "comb_a_preprocess = ColumnTransformer(\n",
    "    transformers=[\n",
    "        ('num', numeric_transformer, numeric_features),\n",
    "        ('cat', categorical_transformer, categorical_features)\n",
    "    ]\n",
    ")\n",
    "\n",
    "comb_a_model = Pipeline(\n",
    "    steps=[\n",
    "        ('preprocessor', comb_a_preprocess),\n",
    "        ('classifier', mlp_classifier)\n",
    "    ]\n",
    ")"
   ]
  },
  {
   "cell_type": "markdown",
   "metadata": {},
   "source": [
    "### Q25 Combination B"
   ]
  },
  {
   "cell_type": "markdown",
   "metadata": {},
   "source": [
    "For numerical features, use MinMaxScaler for normalization and SimpleImputer with zero strategy for imputation. For categorical features, encode ordinal features with OrdinalEncoder and remaining with OneHotEncoder."
   ]
  },
  {
   "cell_type": "code",
   "execution_count": 66,
   "metadata": {},
   "outputs": [],
   "source": [
    "numeric_transformer = Pipeline(\n",
    "    steps=[\n",
    "        ('imputer', SimpleImputer(strategy='constant', fill_value=0)),\n",
    "        ('scaler', MinMaxScaler())\n",
    "    ])"
   ]
  },
  {
   "cell_type": "code",
   "execution_count": 67,
   "metadata": {},
   "outputs": [],
   "source": [
    "ordinal_features = ordinal_columns\n",
    "ordinal_transformer = Pipeline(\n",
    "    steps=[\n",
    "        ('imputer', SimpleImputer(strategy='most_frequent')),\n",
    "        ('ordinal', OrdinalEncoder(categories=[C2_order, C5_order]))\n",
    "    ])\n",
    "\n",
    "not_ordinal_features = nominal_columns+binary_columns\n",
    "not_ordinal_features.remove('classification target')\n",
    "not_ordinal_transformer = Pipeline(\n",
    "    steps=[\n",
    "        ('imputer', SimpleImputer(strategy='most_frequent')),\n",
    "        ('onehot', OneHotEncoder(sparse_output=False, drop='first', handle_unknown='ignore'))\n",
    "    ])"
   ]
  },
  {
   "cell_type": "code",
   "execution_count": 68,
   "metadata": {},
   "outputs": [],
   "source": [
    "comb_b_preprocess = ColumnTransformer(\n",
    "    transformers=[\n",
    "        ('num', numeric_transformer, numeric_features),\n",
    "        ('ord', ordinal_transformer, ordinal_features),\n",
    "        ('not_ord', not_ordinal_transformer, not_ordinal_features)\n",
    "    ]\n",
    ")\n",
    "\n",
    "comb_b_model = Pipeline(\n",
    "    steps=[\n",
    "        ('preprocessor', comb_b_preprocess),\n",
    "        ('classifier', mlp_classifier)\n",
    "    ]\n",
    ")"
   ]
  },
  {
   "cell_type": "markdown",
   "metadata": {},
   "source": [
    "### Q26 Combination C"
   ]
  },
  {
   "cell_type": "markdown",
   "metadata": {},
   "source": [
    "Numerical features are imputed with KNNImputer with k=5. Discrete numerical features are scaled using RobustScaler, and continuous numerical features are scaled using StandardScaler. Categorical features are imputed with SimpleImputer 'mode' strategy. Ordinal features are encoded with OrdinalEncoder, and the remaining are encoded with OneHotEncoder."
   ]
  },
  {
   "cell_type": "code",
   "execution_count": 69,
   "metadata": {},
   "outputs": [],
   "source": [
    "discrete_features = discrete_columns\n",
    "discrete_transformer = Pipeline(\n",
    "    steps=[\n",
    "        #('outlier_detector', IsolationForest()),\n",
    "        ('imputer', KNNImputer(n_neighbors=5)),\n",
    "        ('scaler', RobustScaler())\n",
    "    ])\n",
    "\n",
    "continuous_features = continuous_columns\n",
    "continuous_transformer = Pipeline(\n",
    "    steps=[\n",
    "        #('outlier_detector', IsolationForest()),\n",
    "        ('imputer', KNNImputer(n_neighbors=5)),#SimpleImputer(strategy='mean')),\n",
    "        ('scaler', StandardScaler())\n",
    "    ])"
   ]
  },
  {
   "cell_type": "code",
   "execution_count": 70,
   "metadata": {},
   "outputs": [],
   "source": [
    "ordinal_features = ordinal_columns\n",
    "ordinal_transformer = Pipeline(\n",
    "    steps=[\n",
    "        ('imputer', SimpleImputer(strategy='most_frequent')),\n",
    "        ('ordinal', OrdinalEncoder(categories=[C2_order, C5_order]))\n",
    "    ])\n",
    "\n",
    "not_ordinal_features = nominal_columns+binary_columns\n",
    "not_ordinal_features.remove('classification target')\n",
    "not_ordinal_transformer = Pipeline(\n",
    "    steps=[\n",
    "        ('imputer', SimpleImputer(strategy='most_frequent')),\n",
    "        ('onehot', OneHotEncoder(sparse_output=False, drop='first', handle_unknown='ignore'))\n",
    "    ])"
   ]
  },
  {
   "cell_type": "code",
   "execution_count": 71,
   "metadata": {},
   "outputs": [],
   "source": [
    "comb_c_preprocess = ColumnTransformer(\n",
    "    transformers=[\n",
    "        ('discrete', discrete_transformer, discrete_features),\n",
    "        ('continuous', continuous_transformer, continuous_features),\n",
    "        ('ord', ordinal_transformer, ordinal_features),\n",
    "        ('not_ord', not_ordinal_transformer, not_ordinal_features)\n",
    "    ]\n",
    ")\n",
    "\n",
    "comb_c_model = Pipeline(\n",
    "    steps=[\n",
    "        ('preprocessor', comb_c_preprocess),\n",
    "        #('feature_selection', SelectKBest(k=10, score_func=f_classif)),\n",
    "        ('classifier', mlp_classifier)\n",
    "    ]\n",
    ")"
   ]
  },
  {
   "cell_type": "code",
   "execution_count": 72,
   "metadata": {},
   "outputs": [
    {
     "name": "stderr",
     "output_type": "stream",
     "text": [
      "c:\\Users\\rmi87\\.conda\\envs\\course02450\\Lib\\site-packages\\sklearn\\preprocessing\\_encoders.py:202: UserWarning: Found unknown categories in columns [5, 6] during transform. These unknown categories will be encoded as all zeros\n",
      "  warnings.warn(\n"
     ]
    },
    {
     "name": "stderr",
     "output_type": "stream",
     "text": [
      "c:\\Users\\rmi87\\.conda\\envs\\course02450\\Lib\\site-packages\\sklearn\\preprocessing\\_encoders.py:202: UserWarning: Found unknown categories in columns [5, 6] during transform. These unknown categories will be encoded as all zeros\n",
      "  warnings.warn(\n",
      "c:\\Users\\rmi87\\.conda\\envs\\course02450\\Lib\\site-packages\\sklearn\\preprocessing\\_encoders.py:202: UserWarning: Found unknown categories in columns [5, 6] during transform. These unknown categories will be encoded as all zeros\n",
      "  warnings.warn(\n",
      "c:\\Users\\rmi87\\.conda\\envs\\course02450\\Lib\\site-packages\\sklearn\\preprocessing\\_encoders.py:202: UserWarning: Found unknown categories in columns [3] during transform. These unknown categories will be encoded as all zeros\n",
      "  warnings.warn(\n",
      "c:\\Users\\rmi87\\.conda\\envs\\course02450\\Lib\\site-packages\\sklearn\\preprocessing\\_encoders.py:202: UserWarning: Found unknown categories in columns [3] during transform. These unknown categories will be encoded as all zeros\n",
      "  warnings.warn(\n",
      "c:\\Users\\rmi87\\.conda\\envs\\course02450\\Lib\\site-packages\\sklearn\\preprocessing\\_encoders.py:202: UserWarning: Found unknown categories in columns [3] during transform. These unknown categories will be encoded as all zeros\n",
      "  warnings.warn(\n",
      "c:\\Users\\rmi87\\.conda\\envs\\course02450\\Lib\\site-packages\\sklearn\\preprocessing\\_encoders.py:202: UserWarning: Found unknown categories in columns [3] during transform. These unknown categories will be encoded as all zeros\n",
      "  warnings.warn(\n",
      "c:\\Users\\rmi87\\.conda\\envs\\course02450\\Lib\\site-packages\\sklearn\\preprocessing\\_encoders.py:202: UserWarning: Found unknown categories in columns [3] during transform. These unknown categories will be encoded as all zeros\n",
      "  warnings.warn(\n"
     ]
    },
    {
     "name": "stdout",
     "output_type": "stream",
     "text": [
      "\tA\tB\tC\n",
      "[0.84416196 0.7019774  0.78954802]\n",
      "[0.01311524 0.00599243 0.06697755]\n",
      "[0.8373403  0.59985148 0.77789729]\n",
      "[0.01423113 0.03341152 0.06907071]\n"
     ]
    },
    {
     "name": "stderr",
     "output_type": "stream",
     "text": [
      "c:\\Users\\rmi87\\.conda\\envs\\course02450\\Lib\\site-packages\\sklearn\\preprocessing\\_encoders.py:202: UserWarning: Found unknown categories in columns [3] during transform. These unknown categories will be encoded as all zeros\n",
      "  warnings.warn(\n"
     ]
    }
   ],
   "source": [
    "# Validate the combinations\n",
    "rounds = 3\n",
    "acc_array = np.zeros((3,rounds))\n",
    "f1_array = np.zeros((3,rounds))\n",
    "for i, model in enumerate([comb_a_model, comb_b_model, comb_c_model]):\n",
    "    for j in range(rounds):\n",
    "        model.fit(trainX, trainY)\n",
    "        pred = model.predict(testX)\n",
    "        acc_array[i,j] = accuracy_score(testY, pred)\n",
    "        f1_array[i,j] = f1_score(testY, pred, average='weighted')\n",
    "\n",
    "print('\\tA\\tB\\tC')\n",
    "print(f'{np.mean(acc_array, axis=1)}')\n",
    "print(f'{np.std(acc_array, axis=1)}')\n",
    "print(f'{np.mean(f1_array, axis=1)}')\n",
    "print(f'{np.std(f1_array, axis=1)}')"
   ]
  },
  {
   "cell_type": "markdown",
   "metadata": {},
   "source": [
    "### Hyperparameter Tuning"
   ]
  },
  {
   "cell_type": "code",
   "execution_count": 73,
   "metadata": {},
   "outputs": [],
   "source": [
    "# New dataframe for hyperparameter tuning\n",
    "train_df_best = train_df.copy()"
   ]
  },
  {
   "cell_type": "code",
   "execution_count": 74,
   "metadata": {},
   "outputs": [],
   "source": [
    "# Impute missing values\n",
    "mode_imputer = SimpleImputer(strategy='most_frequent')\n",
    "train_df_best[categorical_columns] = mode_imputer.fit_transform(train_df_best[categorical_columns])\n",
    "\n",
    "knn_imputer = KNNImputer(n_neighbors=5)\n",
    "train_df_best[discrete_features] = knn_imputer.fit_transform(train_df_best[discrete_features])\n",
    "train_df_best[continuous_features] = knn_imputer.fit_transform(train_df_best[continuous_features])"
   ]
  },
  {
   "cell_type": "code",
   "execution_count": 75,
   "metadata": {},
   "outputs": [],
   "source": [
    "# Scale the columns\n",
    "train_df_best[discrete_features] = robust_scaler.fit_transform(train_df_best[discrete_features])\n",
    "train_df_best[continuous_features] = std_scaler.fit_transform(train_df_best[continuous_features])"
   ]
  },
  {
   "cell_type": "code",
   "execution_count": 76,
   "metadata": {},
   "outputs": [],
   "source": [
    "# Ordinal encoding\n",
    "train_df_best[ordinal_columns] = ordinal_encoder.fit_transform(train_df_best[ordinal_columns])\n",
    "\n",
    "# Binary encoding\n",
    "train_df_best[binary_columns] = binary_encoder.fit_transform(train_df_best[binary_columns])\n",
    "\n",
    "# One-hot encoding\n",
    "onehot_encoded = onehot_encoder.fit_transform(train_df_best[nominal_columns])\n",
    "onehot_encoded_df = pd.DataFrame(onehot_encoded, columns=onehot_encoder.get_feature_names_out(nominal_columns))\n",
    "onehot_encoded_df.head()\n",
    "train_df_best = pd.concat([train_df_best, onehot_encoded_df], axis=1)\n",
    "train_df_best.drop(nominal_columns, axis=1, inplace=True)\n",
    "\n",
    "# Re-order columns\n",
    "train_df_best = train_df_best.reindex(columns=natsorted(train_df_best.columns))"
   ]
  },
  {
   "cell_type": "code",
   "execution_count": 77,
   "metadata": {},
   "outputs": [
    {
     "name": "stderr",
     "output_type": "stream",
     "text": [
      "c:\\Users\\rmi87\\.conda\\envs\\course02450\\Lib\\site-packages\\sklearn\\neural_network\\_multilayer_perceptron.py:541: ConvergenceWarning: lbfgs failed to converge (status=1):\n",
      "STOP: TOTAL NO. of ITERATIONS REACHED LIMIT.\n",
      "\n",
      "Increase the number of iterations (max_iter) or scale the data as shown in:\n",
      "    https://scikit-learn.org/stable/modules/preprocessing.html\n",
      "  self.n_iter_ = _check_optimize_result(\"lbfgs\", opt_res, self.max_iter)\n",
      "c:\\Users\\rmi87\\.conda\\envs\\course02450\\Lib\\site-packages\\sklearn\\neural_network\\_multilayer_perceptron.py:541: ConvergenceWarning: lbfgs failed to converge (status=1):\n",
      "STOP: TOTAL NO. of ITERATIONS REACHED LIMIT.\n",
      "\n",
      "Increase the number of iterations (max_iter) or scale the data as shown in:\n",
      "    https://scikit-learn.org/stable/modules/preprocessing.html\n",
      "  self.n_iter_ = _check_optimize_result(\"lbfgs\", opt_res, self.max_iter)\n",
      "c:\\Users\\rmi87\\.conda\\envs\\course02450\\Lib\\site-packages\\sklearn\\neural_network\\_multilayer_perceptron.py:541: ConvergenceWarning: lbfgs failed to converge (status=1):\n",
      "STOP: TOTAL NO. of ITERATIONS REACHED LIMIT.\n",
      "\n",
      "Increase the number of iterations (max_iter) or scale the data as shown in:\n",
      "    https://scikit-learn.org/stable/modules/preprocessing.html\n",
      "  self.n_iter_ = _check_optimize_result(\"lbfgs\", opt_res, self.max_iter)\n",
      "c:\\Users\\rmi87\\.conda\\envs\\course02450\\Lib\\site-packages\\sklearn\\neural_network\\_multilayer_perceptron.py:541: ConvergenceWarning: lbfgs failed to converge (status=1):\n",
      "STOP: TOTAL NO. of ITERATIONS REACHED LIMIT.\n",
      "\n",
      "Increase the number of iterations (max_iter) or scale the data as shown in:\n",
      "    https://scikit-learn.org/stable/modules/preprocessing.html\n",
      "  self.n_iter_ = _check_optimize_result(\"lbfgs\", opt_res, self.max_iter)\n",
      "c:\\Users\\rmi87\\.conda\\envs\\course02450\\Lib\\site-packages\\sklearn\\neural_network\\_multilayer_perceptron.py:541: ConvergenceWarning: lbfgs failed to converge (status=1):\n",
      "STOP: TOTAL NO. of ITERATIONS REACHED LIMIT.\n",
      "\n",
      "Increase the number of iterations (max_iter) or scale the data as shown in:\n",
      "    https://scikit-learn.org/stable/modules/preprocessing.html\n",
      "  self.n_iter_ = _check_optimize_result(\"lbfgs\", opt_res, self.max_iter)\n",
      "c:\\Users\\rmi87\\.conda\\envs\\course02450\\Lib\\site-packages\\sklearn\\neural_network\\_multilayer_perceptron.py:541: ConvergenceWarning: lbfgs failed to converge (status=1):\n",
      "STOP: TOTAL NO. of ITERATIONS REACHED LIMIT.\n",
      "\n",
      "Increase the number of iterations (max_iter) or scale the data as shown in:\n",
      "    https://scikit-learn.org/stable/modules/preprocessing.html\n",
      "  self.n_iter_ = _check_optimize_result(\"lbfgs\", opt_res, self.max_iter)\n",
      "c:\\Users\\rmi87\\.conda\\envs\\course02450\\Lib\\site-packages\\sklearn\\neural_network\\_multilayer_perceptron.py:541: ConvergenceWarning: lbfgs failed to converge (status=1):\n",
      "STOP: TOTAL NO. of ITERATIONS REACHED LIMIT.\n",
      "\n",
      "Increase the number of iterations (max_iter) or scale the data as shown in:\n",
      "    https://scikit-learn.org/stable/modules/preprocessing.html\n",
      "  self.n_iter_ = _check_optimize_result(\"lbfgs\", opt_res, self.max_iter)\n",
      "c:\\Users\\rmi87\\.conda\\envs\\course02450\\Lib\\site-packages\\sklearn\\neural_network\\_multilayer_perceptron.py:541: ConvergenceWarning: lbfgs failed to converge (status=1):\n",
      "STOP: TOTAL NO. of ITERATIONS REACHED LIMIT.\n",
      "\n",
      "Increase the number of iterations (max_iter) or scale the data as shown in:\n",
      "    https://scikit-learn.org/stable/modules/preprocessing.html\n",
      "  self.n_iter_ = _check_optimize_result(\"lbfgs\", opt_res, self.max_iter)\n",
      "c:\\Users\\rmi87\\.conda\\envs\\course02450\\Lib\\site-packages\\sklearn\\neural_network\\_multilayer_perceptron.py:541: ConvergenceWarning: lbfgs failed to converge (status=1):\n",
      "STOP: TOTAL NO. of ITERATIONS REACHED LIMIT.\n",
      "\n",
      "Increase the number of iterations (max_iter) or scale the data as shown in:\n",
      "    https://scikit-learn.org/stable/modules/preprocessing.html\n",
      "  self.n_iter_ = _check_optimize_result(\"lbfgs\", opt_res, self.max_iter)\n",
      "c:\\Users\\rmi87\\.conda\\envs\\course02450\\Lib\\site-packages\\sklearn\\neural_network\\_multilayer_perceptron.py:541: ConvergenceWarning: lbfgs failed to converge (status=1):\n",
      "STOP: TOTAL NO. of ITERATIONS REACHED LIMIT.\n",
      "\n",
      "Increase the number of iterations (max_iter) or scale the data as shown in:\n",
      "    https://scikit-learn.org/stable/modules/preprocessing.html\n",
      "  self.n_iter_ = _check_optimize_result(\"lbfgs\", opt_res, self.max_iter)\n",
      "c:\\Users\\rmi87\\.conda\\envs\\course02450\\Lib\\site-packages\\sklearn\\neural_network\\_multilayer_perceptron.py:541: ConvergenceWarning: lbfgs failed to converge (status=1):\n",
      "STOP: TOTAL NO. of ITERATIONS REACHED LIMIT.\n",
      "\n",
      "Increase the number of iterations (max_iter) or scale the data as shown in:\n",
      "    https://scikit-learn.org/stable/modules/preprocessing.html\n",
      "  self.n_iter_ = _check_optimize_result(\"lbfgs\", opt_res, self.max_iter)\n",
      "c:\\Users\\rmi87\\.conda\\envs\\course02450\\Lib\\site-packages\\sklearn\\neural_network\\_multilayer_perceptron.py:541: ConvergenceWarning: lbfgs failed to converge (status=1):\n",
      "STOP: TOTAL NO. of ITERATIONS REACHED LIMIT.\n",
      "\n",
      "Increase the number of iterations (max_iter) or scale the data as shown in:\n",
      "    https://scikit-learn.org/stable/modules/preprocessing.html\n",
      "  self.n_iter_ = _check_optimize_result(\"lbfgs\", opt_res, self.max_iter)\n",
      "c:\\Users\\rmi87\\.conda\\envs\\course02450\\Lib\\site-packages\\sklearn\\neural_network\\_multilayer_perceptron.py:541: ConvergenceWarning: lbfgs failed to converge (status=1):\n",
      "STOP: TOTAL NO. of ITERATIONS REACHED LIMIT.\n",
      "\n",
      "Increase the number of iterations (max_iter) or scale the data as shown in:\n",
      "    https://scikit-learn.org/stable/modules/preprocessing.html\n",
      "  self.n_iter_ = _check_optimize_result(\"lbfgs\", opt_res, self.max_iter)\n",
      "c:\\Users\\rmi87\\.conda\\envs\\course02450\\Lib\\site-packages\\sklearn\\neural_network\\_multilayer_perceptron.py:541: ConvergenceWarning: lbfgs failed to converge (status=1):\n",
      "STOP: TOTAL NO. of ITERATIONS REACHED LIMIT.\n",
      "\n",
      "Increase the number of iterations (max_iter) or scale the data as shown in:\n",
      "    https://scikit-learn.org/stable/modules/preprocessing.html\n",
      "  self.n_iter_ = _check_optimize_result(\"lbfgs\", opt_res, self.max_iter)\n",
      "c:\\Users\\rmi87\\.conda\\envs\\course02450\\Lib\\site-packages\\sklearn\\neural_network\\_multilayer_perceptron.py:541: ConvergenceWarning: lbfgs failed to converge (status=1):\n",
      "STOP: TOTAL NO. of ITERATIONS REACHED LIMIT.\n",
      "\n",
      "Increase the number of iterations (max_iter) or scale the data as shown in:\n",
      "    https://scikit-learn.org/stable/modules/preprocessing.html\n",
      "  self.n_iter_ = _check_optimize_result(\"lbfgs\", opt_res, self.max_iter)\n",
      "c:\\Users\\rmi87\\.conda\\envs\\course02450\\Lib\\site-packages\\sklearn\\neural_network\\_multilayer_perceptron.py:541: ConvergenceWarning: lbfgs failed to converge (status=1):\n",
      "STOP: TOTAL NO. of ITERATIONS REACHED LIMIT.\n",
      "\n",
      "Increase the number of iterations (max_iter) or scale the data as shown in:\n",
      "    https://scikit-learn.org/stable/modules/preprocessing.html\n",
      "  self.n_iter_ = _check_optimize_result(\"lbfgs\", opt_res, self.max_iter)\n",
      "c:\\Users\\rmi87\\.conda\\envs\\course02450\\Lib\\site-packages\\sklearn\\neural_network\\_multilayer_perceptron.py:541: ConvergenceWarning: lbfgs failed to converge (status=1):\n",
      "STOP: TOTAL NO. of ITERATIONS REACHED LIMIT.\n",
      "\n",
      "Increase the number of iterations (max_iter) or scale the data as shown in:\n",
      "    https://scikit-learn.org/stable/modules/preprocessing.html\n",
      "  self.n_iter_ = _check_optimize_result(\"lbfgs\", opt_res, self.max_iter)\n",
      "c:\\Users\\rmi87\\.conda\\envs\\course02450\\Lib\\site-packages\\sklearn\\neural_network\\_multilayer_perceptron.py:541: ConvergenceWarning: lbfgs failed to converge (status=1):\n",
      "STOP: TOTAL NO. of ITERATIONS REACHED LIMIT.\n",
      "\n",
      "Increase the number of iterations (max_iter) or scale the data as shown in:\n",
      "    https://scikit-learn.org/stable/modules/preprocessing.html\n",
      "  self.n_iter_ = _check_optimize_result(\"lbfgs\", opt_res, self.max_iter)\n",
      "c:\\Users\\rmi87\\.conda\\envs\\course02450\\Lib\\site-packages\\sklearn\\neural_network\\_multilayer_perceptron.py:541: ConvergenceWarning: lbfgs failed to converge (status=1):\n",
      "STOP: TOTAL NO. of ITERATIONS REACHED LIMIT.\n",
      "\n",
      "Increase the number of iterations (max_iter) or scale the data as shown in:\n",
      "    https://scikit-learn.org/stable/modules/preprocessing.html\n",
      "  self.n_iter_ = _check_optimize_result(\"lbfgs\", opt_res, self.max_iter)\n",
      "c:\\Users\\rmi87\\.conda\\envs\\course02450\\Lib\\site-packages\\sklearn\\neural_network\\_multilayer_perceptron.py:541: ConvergenceWarning: lbfgs failed to converge (status=1):\n",
      "STOP: TOTAL NO. of ITERATIONS REACHED LIMIT.\n",
      "\n",
      "Increase the number of iterations (max_iter) or scale the data as shown in:\n",
      "    https://scikit-learn.org/stable/modules/preprocessing.html\n",
      "  self.n_iter_ = _check_optimize_result(\"lbfgs\", opt_res, self.max_iter)\n"
     ]
    },
    {
     "data": {
      "text/html": [
       "<style>#sk-container-id-1 {color: black;background-color: white;}#sk-container-id-1 pre{padding: 0;}#sk-container-id-1 div.sk-toggleable {background-color: white;}#sk-container-id-1 label.sk-toggleable__label {cursor: pointer;display: block;width: 100%;margin-bottom: 0;padding: 0.3em;box-sizing: border-box;text-align: center;}#sk-container-id-1 label.sk-toggleable__label-arrow:before {content: \"▸\";float: left;margin-right: 0.25em;color: #696969;}#sk-container-id-1 label.sk-toggleable__label-arrow:hover:before {color: black;}#sk-container-id-1 div.sk-estimator:hover label.sk-toggleable__label-arrow:before {color: black;}#sk-container-id-1 div.sk-toggleable__content {max-height: 0;max-width: 0;overflow: hidden;text-align: left;background-color: #f0f8ff;}#sk-container-id-1 div.sk-toggleable__content pre {margin: 0.2em;color: black;border-radius: 0.25em;background-color: #f0f8ff;}#sk-container-id-1 input.sk-toggleable__control:checked~div.sk-toggleable__content {max-height: 200px;max-width: 100%;overflow: auto;}#sk-container-id-1 input.sk-toggleable__control:checked~label.sk-toggleable__label-arrow:before {content: \"▾\";}#sk-container-id-1 div.sk-estimator input.sk-toggleable__control:checked~label.sk-toggleable__label {background-color: #d4ebff;}#sk-container-id-1 div.sk-label input.sk-toggleable__control:checked~label.sk-toggleable__label {background-color: #d4ebff;}#sk-container-id-1 input.sk-hidden--visually {border: 0;clip: rect(1px 1px 1px 1px);clip: rect(1px, 1px, 1px, 1px);height: 1px;margin: -1px;overflow: hidden;padding: 0;position: absolute;width: 1px;}#sk-container-id-1 div.sk-estimator {font-family: monospace;background-color: #f0f8ff;border: 1px dotted black;border-radius: 0.25em;box-sizing: border-box;margin-bottom: 0.5em;}#sk-container-id-1 div.sk-estimator:hover {background-color: #d4ebff;}#sk-container-id-1 div.sk-parallel-item::after {content: \"\";width: 100%;border-bottom: 1px solid gray;flex-grow: 1;}#sk-container-id-1 div.sk-label:hover label.sk-toggleable__label {background-color: #d4ebff;}#sk-container-id-1 div.sk-serial::before {content: \"\";position: absolute;border-left: 1px solid gray;box-sizing: border-box;top: 0;bottom: 0;left: 50%;z-index: 0;}#sk-container-id-1 div.sk-serial {display: flex;flex-direction: column;align-items: center;background-color: white;padding-right: 0.2em;padding-left: 0.2em;position: relative;}#sk-container-id-1 div.sk-item {position: relative;z-index: 1;}#sk-container-id-1 div.sk-parallel {display: flex;align-items: stretch;justify-content: center;background-color: white;position: relative;}#sk-container-id-1 div.sk-item::before, #sk-container-id-1 div.sk-parallel-item::before {content: \"\";position: absolute;border-left: 1px solid gray;box-sizing: border-box;top: 0;bottom: 0;left: 50%;z-index: -1;}#sk-container-id-1 div.sk-parallel-item {display: flex;flex-direction: column;z-index: 1;position: relative;background-color: white;}#sk-container-id-1 div.sk-parallel-item:first-child::after {align-self: flex-end;width: 50%;}#sk-container-id-1 div.sk-parallel-item:last-child::after {align-self: flex-start;width: 50%;}#sk-container-id-1 div.sk-parallel-item:only-child::after {width: 0;}#sk-container-id-1 div.sk-dashed-wrapped {border: 1px dashed gray;margin: 0 0.4em 0.5em 0.4em;box-sizing: border-box;padding-bottom: 0.4em;background-color: white;}#sk-container-id-1 div.sk-label label {font-family: monospace;font-weight: bold;display: inline-block;line-height: 1.2em;}#sk-container-id-1 div.sk-label-container {text-align: center;}#sk-container-id-1 div.sk-container {/* jupyter's `normalize.less` sets `[hidden] { display: none; }` but bootstrap.min.css set `[hidden] { display: none !important; }` so we also need the `!important` here to be able to override the default hidden behavior on the sphinx rendered scikit-learn.org. See: https://github.com/scikit-learn/scikit-learn/issues/21755 */display: inline-block !important;position: relative;}#sk-container-id-1 div.sk-text-repr-fallback {display: none;}</style><div id=\"sk-container-id-1\" class=\"sk-top-container\"><div class=\"sk-text-repr-fallback\"><pre>GridSearchCV(cv=5, estimator=MLPClassifier(),\n",
       "             param_grid={&#x27;activation&#x27;: [&#x27;relu&#x27;, &#x27;tanh&#x27;],\n",
       "                         &#x27;early_stopping&#x27;: [True],\n",
       "                         &#x27;hidden_layer_sizes&#x27;: [(8, 8, 8), (32, 32, 32)],\n",
       "                         &#x27;random_state&#x27;: [4211],\n",
       "                         &#x27;solver&#x27;: [&#x27;sgd&#x27;, &#x27;adam&#x27;, &#x27;lbfgs&#x27;]})</pre><b>In a Jupyter environment, please rerun this cell to show the HTML representation or trust the notebook. <br />On GitHub, the HTML representation is unable to render, please try loading this page with nbviewer.org.</b></div><div class=\"sk-container\" hidden><div class=\"sk-item sk-dashed-wrapped\"><div class=\"sk-label-container\"><div class=\"sk-label sk-toggleable\"><input class=\"sk-toggleable__control sk-hidden--visually\" id=\"sk-estimator-id-1\" type=\"checkbox\" ><label for=\"sk-estimator-id-1\" class=\"sk-toggleable__label sk-toggleable__label-arrow\">GridSearchCV</label><div class=\"sk-toggleable__content\"><pre>GridSearchCV(cv=5, estimator=MLPClassifier(),\n",
       "             param_grid={&#x27;activation&#x27;: [&#x27;relu&#x27;, &#x27;tanh&#x27;],\n",
       "                         &#x27;early_stopping&#x27;: [True],\n",
       "                         &#x27;hidden_layer_sizes&#x27;: [(8, 8, 8), (32, 32, 32)],\n",
       "                         &#x27;random_state&#x27;: [4211],\n",
       "                         &#x27;solver&#x27;: [&#x27;sgd&#x27;, &#x27;adam&#x27;, &#x27;lbfgs&#x27;]})</pre></div></div></div><div class=\"sk-parallel\"><div class=\"sk-parallel-item\"><div class=\"sk-item\"><div class=\"sk-label-container\"><div class=\"sk-label sk-toggleable\"><input class=\"sk-toggleable__control sk-hidden--visually\" id=\"sk-estimator-id-2\" type=\"checkbox\" ><label for=\"sk-estimator-id-2\" class=\"sk-toggleable__label sk-toggleable__label-arrow\">estimator: MLPClassifier</label><div class=\"sk-toggleable__content\"><pre>MLPClassifier()</pre></div></div></div><div class=\"sk-serial\"><div class=\"sk-item\"><div class=\"sk-estimator sk-toggleable\"><input class=\"sk-toggleable__control sk-hidden--visually\" id=\"sk-estimator-id-3\" type=\"checkbox\" ><label for=\"sk-estimator-id-3\" class=\"sk-toggleable__label sk-toggleable__label-arrow\">MLPClassifier</label><div class=\"sk-toggleable__content\"><pre>MLPClassifier()</pre></div></div></div></div></div></div></div></div></div></div>"
      ],
      "text/plain": [
       "GridSearchCV(cv=5, estimator=MLPClassifier(),\n",
       "             param_grid={'activation': ['relu', 'tanh'],\n",
       "                         'early_stopping': [True],\n",
       "                         'hidden_layer_sizes': [(8, 8, 8), (32, 32, 32)],\n",
       "                         'random_state': [4211],\n",
       "                         'solver': ['sgd', 'adam', 'lbfgs']})"
      ]
     },
     "execution_count": 77,
     "metadata": {},
     "output_type": "execute_result"
    }
   ],
   "source": [
    "# Perform grid search cross-validation\n",
    "trainX, testX, trainY, testY = train_test_split(train_df_best[classif_features], train_df_best['classification target'], test_size=0.2, random_state=4211)\n",
    "\n",
    "classifier = MLPClassifier()\n",
    "\n",
    "param_grid = {\n",
    "    'hidden_layer_sizes': [(8,8,8), (32,32,32)],\n",
    "    'activation': ['relu', 'tanh'],\n",
    "    'solver': ['sgd', 'adam', 'lbfgs'],\n",
    "    'early_stopping': [True],\n",
    "    'random_state': [4211]\n",
    "}\n",
    "\n",
    "# Perform grid search cross-validation\n",
    "grid_search = GridSearchCV(estimator=classifier, param_grid=param_grid, cv=5)\n",
    "grid_search.fit(trainX, trainY)"
   ]
  },
  {
   "cell_type": "code",
   "execution_count": 78,
   "metadata": {},
   "outputs": [
    {
     "name": "stderr",
     "output_type": "stream",
     "text": [
      "C:\\Users\\rmi87\\AppData\\Local\\Temp\\ipykernel_30420\\2124833988.py:6: SettingWithCopyWarning: \n",
      "A value is trying to be set on a copy of a slice from a DataFrame\n",
      "\n",
      "See the caveats in the documentation: https://pandas.pydata.org/pandas-docs/stable/user_guide/indexing.html#returning-a-view-versus-a-copy\n",
      "  comb.sort_values(by='rank_test_score', inplace=True)\n"
     ]
    }
   ],
   "source": [
    "# Access the results\n",
    "results_df = pd.DataFrame(grid_search.cv_results_)\n",
    "comb = results_df[['param_activation', 'param_hidden_layer_sizes', 'param_solver', 'mean_test_score', 'std_test_score', 'rank_test_score']]\n",
    "\n",
    "# Save results to csv file\n",
    "comb.sort_values(by='rank_test_score', inplace=True)\n",
    "comb.to_csv('comb.csv', index=False)"
   ]
  },
  {
   "cell_type": "code",
   "execution_count": 79,
   "metadata": {},
   "outputs": [
    {
     "data": {
      "text/html": [
       "<div>\n",
       "<style scoped>\n",
       "    .dataframe tbody tr th:only-of-type {\n",
       "        vertical-align: middle;\n",
       "    }\n",
       "\n",
       "    .dataframe tbody tr th {\n",
       "        vertical-align: top;\n",
       "    }\n",
       "\n",
       "    .dataframe thead th {\n",
       "        text-align: right;\n",
       "    }\n",
       "</style>\n",
       "<table border=\"1\" class=\"dataframe\">\n",
       "  <thead>\n",
       "    <tr style=\"text-align: right;\">\n",
       "      <th></th>\n",
       "      <th>param_activation</th>\n",
       "      <th>param_hidden_layer_sizes</th>\n",
       "      <th>param_solver</th>\n",
       "      <th>mean_test_score</th>\n",
       "      <th>std_test_score</th>\n",
       "      <th>rank_test_score</th>\n",
       "    </tr>\n",
       "  </thead>\n",
       "  <tbody>\n",
       "    <tr>\n",
       "      <th>7</th>\n",
       "      <td>tanh</td>\n",
       "      <td>(8, 8, 8)</td>\n",
       "      <td>adam</td>\n",
       "      <td>0.870008</td>\n",
       "      <td>0.009558</td>\n",
       "      <td>1</td>\n",
       "    </tr>\n",
       "    <tr>\n",
       "      <th>4</th>\n",
       "      <td>relu</td>\n",
       "      <td>(32, 32, 32)</td>\n",
       "      <td>adam</td>\n",
       "      <td>0.867888</td>\n",
       "      <td>0.011931</td>\n",
       "      <td>2</td>\n",
       "    </tr>\n",
       "    <tr>\n",
       "      <th>1</th>\n",
       "      <td>relu</td>\n",
       "      <td>(8, 8, 8)</td>\n",
       "      <td>adam</td>\n",
       "      <td>0.865415</td>\n",
       "      <td>0.010901</td>\n",
       "      <td>3</td>\n",
       "    </tr>\n",
       "    <tr>\n",
       "      <th>2</th>\n",
       "      <td>relu</td>\n",
       "      <td>(8, 8, 8)</td>\n",
       "      <td>lbfgs</td>\n",
       "      <td>0.863647</td>\n",
       "      <td>0.010863</td>\n",
       "      <td>4</td>\n",
       "    </tr>\n",
       "    <tr>\n",
       "      <th>10</th>\n",
       "      <td>tanh</td>\n",
       "      <td>(32, 32, 32)</td>\n",
       "      <td>adam</td>\n",
       "      <td>0.862587</td>\n",
       "      <td>0.015746</td>\n",
       "      <td>5</td>\n",
       "    </tr>\n",
       "    <tr>\n",
       "      <th>8</th>\n",
       "      <td>tanh</td>\n",
       "      <td>(8, 8, 8)</td>\n",
       "      <td>lbfgs</td>\n",
       "      <td>0.856940</td>\n",
       "      <td>0.009166</td>\n",
       "      <td>6</td>\n",
       "    </tr>\n",
       "    <tr>\n",
       "      <th>0</th>\n",
       "      <td>relu</td>\n",
       "      <td>(8, 8, 8)</td>\n",
       "      <td>sgd</td>\n",
       "      <td>0.852698</td>\n",
       "      <td>0.017825</td>\n",
       "      <td>7</td>\n",
       "    </tr>\n",
       "    <tr>\n",
       "      <th>6</th>\n",
       "      <td>tanh</td>\n",
       "      <td>(8, 8, 8)</td>\n",
       "      <td>sgd</td>\n",
       "      <td>0.851290</td>\n",
       "      <td>0.012197</td>\n",
       "      <td>8</td>\n",
       "    </tr>\n",
       "    <tr>\n",
       "      <th>5</th>\n",
       "      <td>relu</td>\n",
       "      <td>(32, 32, 32)</td>\n",
       "      <td>lbfgs</td>\n",
       "      <td>0.848106</td>\n",
       "      <td>0.013633</td>\n",
       "      <td>9</td>\n",
       "    </tr>\n",
       "    <tr>\n",
       "      <th>3</th>\n",
       "      <td>relu</td>\n",
       "      <td>(32, 32, 32)</td>\n",
       "      <td>sgd</td>\n",
       "      <td>0.846692</td>\n",
       "      <td>0.016479</td>\n",
       "      <td>10</td>\n",
       "    </tr>\n",
       "    <tr>\n",
       "      <th>11</th>\n",
       "      <td>tanh</td>\n",
       "      <td>(32, 32, 32)</td>\n",
       "      <td>lbfgs</td>\n",
       "      <td>0.837862</td>\n",
       "      <td>0.016439</td>\n",
       "      <td>11</td>\n",
       "    </tr>\n",
       "    <tr>\n",
       "      <th>9</th>\n",
       "      <td>tanh</td>\n",
       "      <td>(32, 32, 32)</td>\n",
       "      <td>sgd</td>\n",
       "      <td>0.833977</td>\n",
       "      <td>0.015879</td>\n",
       "      <td>12</td>\n",
       "    </tr>\n",
       "  </tbody>\n",
       "</table>\n",
       "</div>"
      ],
      "text/plain": [
       "   param_activation param_hidden_layer_sizes param_solver  mean_test_score  \\\n",
       "7              tanh                (8, 8, 8)         adam         0.870008   \n",
       "4              relu             (32, 32, 32)         adam         0.867888   \n",
       "1              relu                (8, 8, 8)         adam         0.865415   \n",
       "2              relu                (8, 8, 8)        lbfgs         0.863647   \n",
       "10             tanh             (32, 32, 32)         adam         0.862587   \n",
       "8              tanh                (8, 8, 8)        lbfgs         0.856940   \n",
       "0              relu                (8, 8, 8)          sgd         0.852698   \n",
       "6              tanh                (8, 8, 8)          sgd         0.851290   \n",
       "5              relu             (32, 32, 32)        lbfgs         0.848106   \n",
       "3              relu             (32, 32, 32)          sgd         0.846692   \n",
       "11             tanh             (32, 32, 32)        lbfgs         0.837862   \n",
       "9              tanh             (32, 32, 32)          sgd         0.833977   \n",
       "\n",
       "    std_test_score  rank_test_score  \n",
       "7         0.009558                1  \n",
       "4         0.011931                2  \n",
       "1         0.010901                3  \n",
       "2         0.010863                4  \n",
       "10        0.015746                5  \n",
       "8         0.009166                6  \n",
       "0         0.017825                7  \n",
       "6         0.012197                8  \n",
       "5         0.013633                9  \n",
       "3         0.016479               10  \n",
       "11        0.016439               11  \n",
       "9         0.015879               12  "
      ]
     },
     "execution_count": 79,
     "metadata": {},
     "output_type": "execute_result"
    }
   ],
   "source": [
    "# Show results\n",
    "comb"
   ]
  }
 ],
 "metadata": {
  "kernelspec": {
   "display_name": "course02450",
   "language": "python",
   "name": "python3"
  },
  "language_info": {
   "codemirror_mode": {
    "name": "ipython",
    "version": 3
   },
   "file_extension": ".py",
   "mimetype": "text/x-python",
   "name": "python",
   "nbconvert_exporter": "python",
   "pygments_lexer": "ipython3",
   "version": "3.11.5"
  }
 },
 "nbformat": 4,
 "nbformat_minor": 2
}
